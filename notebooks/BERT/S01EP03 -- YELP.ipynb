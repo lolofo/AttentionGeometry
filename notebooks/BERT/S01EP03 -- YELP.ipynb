{
 "cells": [
  {
   "cell_type": "code",
   "execution_count": 4,
   "metadata": {},
   "outputs": [
    {
     "name": "stdout",
     "output_type": "stream",
     "text": [
      "The autoreload extension is already loaded. To reload it, use:\n",
      "  %reload_ext autoreload\n",
      ">> current directory : c:\\Users\\loicf\\Documents\\IRISA\\AttentionGeometry\n",
      ">> cache path : c:\\Users\\loicf\\Documents\\IRISA\\AttentionGeometry\\.cache_bert\n",
      ">> model path : c:\\Users\\loicf\\Documents\\IRISA\\AttentionGeometry\\.cache_bert\\models\n",
      ">> dataset path : c:\\Users\\loicf\\Documents\\IRISA\\AttentionGeometry\\.cache_bert\\dataset\n",
      ">> logs path : c:\\Users\\loicf\\Documents\\IRISA\\AttentionGeometry\\.cache_bert\\logs\n"
     ]
    }
   ],
   "source": [
    "%load_ext autoreload\n",
    "%autoreload 2\n",
    "import torch\n",
    "\n",
    "import os\n",
    "from os import path\n",
    "import sys\n",
    "cwd = os.getcwd().split(os.path.sep)\n",
    "\n",
    "# point to the git repository\n",
    "while cwd[-1] != \"AttentionGeometry\":\n",
    "    os.chdir(\"..\")\n",
    "    cwd = os.getcwd().split(os.path.sep)\n",
    "print(f\">> current directory : {os.getcwd()}\")\n",
    "\n",
    "# add the root directory\n",
    "sys.path.append(os.path.join(os.getcwd(), \"src\"))\n",
    "\n",
    "# cache and data cache\n",
    "cache_path = path.join(os.getcwd() ,'.cache_bert')\n",
    "dataset_path = path.join(cache_path, 'dataset')\n",
    "log_path = path.join(cache_path, 'logs')\n",
    "model_path = path.join(cache_path, 'models')\n",
    "print(f\">> cache path : {cache_path}\")\n",
    "print(f\">> model path : {model_path}\")\n",
    "print(f\">> dataset path : {dataset_path}\")\n",
    "print(f\">> logs path : {log_path}\")\n",
    "DEVICE = torch.device('cuda' if torch.cuda.is_available() else 'cpu')"
   ]
  },
  {
   "cell_type": "code",
   "execution_count": 5,
   "metadata": {},
   "outputs": [
    {
     "data": {
      "text/plain": [
       "device(type='cuda')"
      ]
     },
     "execution_count": 5,
     "metadata": {},
     "output_type": "execute_result"
    }
   ],
   "source": [
    "DEVICE"
   ]
  },
  {
   "cell_type": "code",
   "execution_count": 6,
   "metadata": {},
   "outputs": [
    {
     "name": "stderr",
     "output_type": "stream",
     "text": [
      "Reusing dataset yelp_polarity (C:\\Users\\loicf\\.cache\\huggingface\\datasets\\yelp_polarity\\plain_text\\1.0.0\\14f90415c754f47cf9087eadac25823a395fef4400c7903c5897f55cfaaa6f61)\n"
     ]
    }
   ],
   "source": [
    "from datasets import load_dataset\n",
    "dataset = load_dataset(\"yelp_polarity\", split='test')"
   ]
  },
  {
   "cell_type": "code",
   "execution_count": 7,
   "metadata": {},
   "outputs": [
    {
     "data": {
      "application/vnd.jupyter.widget-view+json": {
       "model_id": "dad343cf9aeb461f855f1e6b5d2bf081",
       "version_major": 2,
       "version_minor": 0
      },
      "text/plain": [
       "Downloading:   0%|          | 0.00/29.0 [00:00<?, ?B/s]"
      ]
     },
     "metadata": {},
     "output_type": "display_data"
    },
    {
     "name": "stderr",
     "output_type": "stream",
     "text": [
      "c:\\Users\\loicf\\miniconda3\\envs\\nlp\\lib\\site-packages\\huggingface_hub\\file_download.py:123: UserWarning: `huggingface_hub` cache-system uses symlinks by default to efficiently store duplicated files but your machine does not support them in C:\\Users\\loicf\\.cache\\huggingface\\hub. Caching files will still work but in a degraded version that might require more space on your disk. This warning can be disabled by setting the `HF_HUB_DISABLE_SYMLINKS_WARNING` environment variable. For more details, see https://huggingface.co/docs/huggingface_hub/how-to-cache#limitations.\n",
      "To support symlinks on Windows, you either need to activate Developer Mode or to run Python as an administrator. In order to see activate developer mode, see this article: https://docs.microsoft.com/en-us/windows/apps/get-started/enable-your-device-for-development\n",
      "  warnings.warn(message)\n"
     ]
    },
    {
     "data": {
      "application/vnd.jupyter.widget-view+json": {
       "model_id": "3bf7a8c85fe4416887c34327754be20a",
       "version_major": 2,
       "version_minor": 0
      },
      "text/plain": [
       "Downloading:   0%|          | 0.00/570 [00:00<?, ?B/s]"
      ]
     },
     "metadata": {},
     "output_type": "display_data"
    },
    {
     "data": {
      "application/vnd.jupyter.widget-view+json": {
       "model_id": "fc0947f7ff9e46b99b966e1af7c64107",
       "version_major": 2,
       "version_minor": 0
      },
      "text/plain": [
       "Downloading:   0%|          | 0.00/213k [00:00<?, ?B/s]"
      ]
     },
     "metadata": {},
     "output_type": "display_data"
    },
    {
     "data": {
      "application/vnd.jupyter.widget-view+json": {
       "model_id": "30cec5ce5aef4b9293c66df29fd5c996",
       "version_major": 2,
       "version_minor": 0
      },
      "text/plain": [
       "Downloading:   0%|          | 0.00/436k [00:00<?, ?B/s]"
      ]
     },
     "metadata": {},
     "output_type": "display_data"
    }
   ],
   "source": [
    "from transformers import AutoTokenizer\n",
    "tokenizer = AutoTokenizer.from_pretrained(\"bert-base-uncased\")"
   ]
  },
  {
   "cell_type": "code",
   "execution_count": 8,
   "metadata": {},
   "outputs": [
    {
     "data": {
      "application/vnd.jupyter.widget-view+json": {
       "model_id": "78f49c02e88144feab5003585f7d35b7",
       "version_major": 2,
       "version_minor": 0
      },
      "text/plain": [
       "  0%|          | 0/38 [00:00<?, ?ba/s]"
      ]
     },
     "metadata": {},
     "output_type": "display_data"
    }
   ],
   "source": [
    "def tokenize_function(data):\n",
    "  return tokenizer(data[\"text\"], padding=\"max_length\", truncation=True)\n",
    "\n",
    "tokenized_datasets = dataset.map(tokenize_function, batched=True)"
   ]
  },
  {
   "cell_type": "code",
   "execution_count": 9,
   "metadata": {},
   "outputs": [],
   "source": [
    "from transformers import AutoModelForSequenceClassification\n",
    "model = AutoModelForSequenceClassification.from_pretrained(\n",
    "    os.path.join(log_path, \"yelp\", \"yelp-ft-3\"),\n",
    "    num_labels=2,\n",
    "    output_hidden_states=True\n",
    ")\n",
    "model = model.eval()"
   ]
  },
  {
   "cell_type": "code",
   "execution_count": 10,
   "metadata": {},
   "outputs": [
    {
     "name": "stdout",
     "output_type": "stream",
     "text": [
      "0\n",
      "0\n",
      "pred found\n"
     ]
    }
   ],
   "source": [
    "# get the r_i\n",
    "import numpy as np\n",
    "class_1 = 0\n",
    "r_0 = None\n",
    "for i in range(len(tokenized_datasets)):\n",
    "    ex = tokenized_datasets[i]\n",
    "    label = tokenized_datasets[i][\"label\"]\n",
    "    ids = torch.tensor(ex[\"input_ids\"]).unsqueeze(0)\n",
    "    att_mask = attention_mask=torch.tensor(ex[\"attention_mask\"]).unsqueeze(0)\n",
    "    output_model = model(\n",
    "        input_ids = ids, \n",
    "        attention_mask = att_mask\n",
    "    )\n",
    "    pred = output_model.logits\n",
    "    if label == class_1 and np.argmax(pred.detach().cpu().numpy()) == label:\n",
    "        print( np.argmax(pred.detach().cpu().numpy()))\n",
    "        print(label)\n",
    "        r_0 = output_model.hidden_states[-1][0, 0, :]\n",
    "        print(\"pred found\")\n",
    "        break"
   ]
  },
  {
   "cell_type": "code",
   "execution_count": 12,
   "metadata": {},
   "outputs": [
    {
     "data": {
      "text/plain": [
       "torch.Size([768])"
      ]
     },
     "execution_count": 12,
     "metadata": {},
     "output_type": "execute_result"
    }
   ],
   "source": [
    "r_0.shape"
   ]
  },
  {
   "cell_type": "code",
   "execution_count": 15,
   "metadata": {},
   "outputs": [
    {
     "data": {
      "application/vnd.jupyter.widget-view+json": {
       "model_id": "78f138657f9948ae842c16f8531e7e02",
       "version_major": 2,
       "version_minor": 0
      },
      "text/plain": [
       "  0%|          | 0/38000 [00:00<?, ?it/s]"
      ]
     },
     "metadata": {},
     "output_type": "display_data"
    }
   ],
   "source": [
    "cos_res = []\n",
    "legend = []\n",
    "ds = tokenized_datasets\n",
    "from tqdm.notebook import tqdm\n",
    "model = model.to(DEVICE)\n",
    "model = model.eval()\n",
    "r_0 = r_0.to(DEVICE)\n",
    "with torch.no_grad():\n",
    "    for i in tqdm(range(len(tokenized_datasets))):\n",
    "        ex = ds[i]\n",
    "        label = ex[\"label\"]\n",
    "        ids = torch.tensor(ex[\"input_ids\"]).unsqueeze(0)\n",
    "        att_mask = attention_mask=torch.tensor(ex[\"attention_mask\"]).unsqueeze(0)\n",
    "        output_model = model(\n",
    "            input_ids = ids.to(DEVICE), \n",
    "            attention_mask = att_mask.to(DEVICE),\n",
    "        )\n",
    "\n",
    "        temp = output_model.hidden_states[-1][0, 0, :]\n",
    "        scalar = torch.dot(r_0, temp)\n",
    "        cos_res.append((scalar / (torch.norm(temp) * torch.norm(r_0))).item())\n",
    "        legend.append(label)\n",
    "        if i > 5000:\n",
    "            break"
   ]
  },
  {
   "cell_type": "code",
   "execution_count": 16,
   "metadata": {},
   "outputs": [],
   "source": [
    "import pandas as pd\n",
    "import matplotlib.pyplot as plt\n",
    "import seaborn as sns\n",
    "sns.set_theme()\n"
   ]
  },
  {
   "cell_type": "code",
   "execution_count": 18,
   "metadata": {},
   "outputs": [
    {
     "data": {
      "image/png": "[encoded data removed]",
      "text/plain": [
       "<Figure size 640x480 with 1 Axes>"
      ]
     },
     "metadata": {},
     "output_type": "display_data"
    }
   ],
   "source": [
    "df = pd.DataFrame({\n",
    "    \"cos\": cos_res,\n",
    "    \"label\":legend\n",
    "})\n",
    "\n",
    "sns.boxplot(data=df, x = \"label\", y=\"cos\")\n",
    "plt.savefig(\".cache_bert/plots/paper/yelp_cos_class.png\")"
   ]
  },
  {
   "cell_type": "code",
   "execution_count": null,
   "metadata": {},
   "outputs": [],
   "source": []
  }
 ],
 "metadata": {
  "kernelspec": {
   "display_name": "nlp",
   "language": "python",
   "name": "python3"
  },
  "language_info": {
   "codemirror_mode": {
    "name": "ipython",
    "version": 3
   },
   "file_extension": ".py",
   "mimetype": "text/x-python",
   "name": "python",
   "nbconvert_exporter": "python",
   "pygments_lexer": "ipython3",
   "version": "3.7.13"
  },
  "orig_nbformat": 4
 },
 "nbformat": 4,
 "nbformat_minor": 2
}
