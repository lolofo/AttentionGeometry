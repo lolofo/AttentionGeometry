{
 "cells": [
  {
   "cell_type": "code",
   "execution_count": 12,
   "metadata": {},
   "outputs": [
    {
     "name": "stdout",
     "output_type": "stream",
     "text": [
      "The autoreload extension is already loaded. To reload it, use:\n",
      "  %reload_ext autoreload\n",
      ">> current directory : C:\\Users\\loicf\\Documents\\IRISA\\TALN_2023\\AttentionGeometry\n",
      ">> cache path : C:\\Users\\loicf\\Documents\\IRISA\\TALN_2023\\AttentionGeometry\\.cache_bert\n",
      ">> model path : C:\\Users\\loicf\\Documents\\IRISA\\TALN_2023\\AttentionGeometry\\.cache_bert\\models\n",
      ">> dataset path : C:\\Users\\loicf\\Documents\\IRISA\\TALN_2023\\AttentionGeometry\\.cache_bert\\dataset\n",
      ">> logs path : C:\\Users\\loicf\\Documents\\IRISA\\TALN_2023\\AttentionGeometry\\.cache_bert\\logs\n"
     ]
    }
   ],
   "source": [
    "%load_ext autoreload\n",
    "%autoreload 2\n",
    "import torch\n",
    "\n",
    "import os\n",
    "from os import path\n",
    "import sys\n",
    "cwd = os.getcwd().split(os.path.sep)\n",
    "\n",
    "# point to the git repository\n",
    "while cwd[-1] != \"AttentionGeometry\":\n",
    "    os.chdir(\"..\")\n",
    "    cwd = os.getcwd().split(os.path.sep)\n",
    "print(f\">> current directory : {os.getcwd()}\")\n",
    "\n",
    "# add the root directory\n",
    "sys.path.append(os.path.join(os.getcwd(), \"src\"))\n",
    "\n",
    "# cache and data cache\n",
    "cache_path = path.join(os.getcwd() ,'.cache_bert')\n",
    "dataset_path = path.join(cache_path, 'dataset')\n",
    "log_path = path.join(cache_path, 'logs')\n",
    "model_path = path.join(cache_path, 'models')\n",
    "print(f\">> cache path : {cache_path}\")\n",
    "print(f\">> model path : {model_path}\")\n",
    "print(f\">> dataset path : {dataset_path}\")\n",
    "print(f\">> logs path : {log_path}\")\n",
    "DEVICE = torch.device('cuda' if torch.cuda.is_available() else 'cpu')"
   ]
  },
  {
   "cell_type": "code",
   "execution_count": 13,
   "metadata": {},
   "outputs": [
    {
     "data": {
      "text/plain": [
       "device(type='cuda')"
      ]
     },
     "execution_count": 13,
     "metadata": {},
     "output_type": "execute_result"
    }
   ],
   "source": [
    "DEVICE"
   ]
  },
  {
   "cell_type": "code",
   "execution_count": 14,
   "metadata": {},
   "outputs": [
    {
     "name": "stderr",
     "output_type": "stream",
     "text": [
      "Reusing dataset yelp_polarity (C:\\Users\\loicf\\.cache\\huggingface\\datasets\\yelp_polarity\\plain_text\\1.0.0\\14f90415c754f47cf9087eadac25823a395fef4400c7903c5897f55cfaaa6f61)\n"
     ]
    }
   ],
   "source": [
    "from datasets import load_dataset\n",
    "dataset = load_dataset(\"yelp_polarity\", split='test')"
   ]
  },
  {
   "cell_type": "code",
   "execution_count": 15,
   "metadata": {},
   "outputs": [],
   "source": [
    "from transformers import AutoTokenizer\n",
    "tokenizer = AutoTokenizer.from_pretrained(\"bert-base-cased\")"
   ]
  },
  {
   "cell_type": "code",
   "execution_count": 16,
   "metadata": {},
   "outputs": [
    {
     "data": {
      "application/vnd.jupyter.widget-view+json": {
       "model_id": "98ac5d448967452e86b6c6544f986414",
       "version_major": 2,
       "version_minor": 0
      },
      "text/plain": [
       "  0%|          | 0/38 [00:00<?, ?ba/s]"
      ]
     },
     "metadata": {},
     "output_type": "display_data"
    }
   ],
   "source": [
    "def tokenize_function(data):\n",
    "    return tokenizer(data[\"text\"], padding=\"max_length\", truncation=True)\n",
    "\n",
    "tokenized_datasets = dataset.map(tokenize_function, batched=True).shuffle()"
   ]
  },
  {
   "cell_type": "code",
   "execution_count": 17,
   "metadata": {},
   "outputs": [],
   "source": [
    "from transformers import AutoModelForSequenceClassification\n",
    "\n",
    "model = AutoModelForSequenceClassification.from_pretrained(\n",
    "    os.path.join(log_path, \"yelp\", \"yelp-ft-3\"),\n",
    "    num_labels=2,\n",
    "    output_hidden_states=True\n",
    ")\n",
    "model = model.eval()\n",
    "model=model.to(DEVICE)"
   ]
  },
  {
   "cell_type": "code",
   "execution_count": 18,
   "metadata": {},
   "outputs": [
    {
     "name": "stdout",
     "output_type": "stream",
     "text": [
      "0\n",
      "0\n",
      "pred found\n"
     ]
    }
   ],
   "source": [
    "# get the r_i\n",
    "import numpy as np\n",
    "with torch.no_grad():\n",
    "    class_1 = 0\n",
    "    r_0 = None\n",
    "    for i in range(len(tokenized_datasets)):\n",
    "        ex = tokenized_datasets[i]\n",
    "        label = tokenized_datasets[i][\"label\"]\n",
    "        ids = torch.tensor(ex[\"input_ids\"]).unsqueeze(0)\n",
    "        att_mask = attention_mask=torch.tensor(ex[\"attention_mask\"]).unsqueeze(0)\n",
    "        \n",
    "        output_model = model(\n",
    "            input_ids = ids.to(DEVICE), \n",
    "            attention_mask = att_mask.to(DEVICE)\n",
    "        )\n",
    "        pred = output_model.logits\n",
    "        if label == class_1 and np.argmax(pred.detach().cpu().numpy()) == label:\n",
    "            print( np.argmax(pred.detach().cpu().numpy()))\n",
    "            print(label)\n",
    "            r_0 = output_model.hidden_states[-1][0, 0, :]\n",
    "            print(\"pred found\")\n",
    "            break"
   ]
  },
  {
   "cell_type": "code",
   "execution_count": 19,
   "metadata": {},
   "outputs": [
    {
     "name": "stdout",
     "output_type": "stream",
     "text": [
      "1\n",
      "1\n",
      "pred found\n"
     ]
    }
   ],
   "source": [
    "# get the r_i\n",
    "import numpy as np\n",
    "with torch.no_grad():\n",
    "    class_1 = 1\n",
    "    r_1 = None\n",
    "    for i in range(len(tokenized_datasets)):\n",
    "        ex = tokenized_datasets[i]\n",
    "        label = tokenized_datasets[i][\"label\"]\n",
    "        ids = torch.tensor(ex[\"input_ids\"]).unsqueeze(0)\n",
    "        att_mask = attention_mask=torch.tensor(ex[\"attention_mask\"]).unsqueeze(0)\n",
    "        \n",
    "        output_model = model(\n",
    "            input_ids = ids.to(DEVICE), \n",
    "            attention_mask = att_mask.to(DEVICE)\n",
    "        )\n",
    "        pred = output_model.logits\n",
    "        if label == class_1 and np.argmax(pred.detach().cpu().numpy()) == label:\n",
    "            print( np.argmax(pred.detach().cpu().numpy()))\n",
    "            print(label)\n",
    "            r_1 = output_model.hidden_states[-1][0, 0, :]\n",
    "            print(\"pred found\")\n",
    "            break"
   ]
  },
  {
   "cell_type": "code",
   "execution_count": 27,
   "metadata": {},
   "outputs": [
    {
     "data": {
      "application/vnd.jupyter.widget-view+json": {
       "model_id": "6c7fb2a325df4694976558cf26d71ac7",
       "version_major": 2,
       "version_minor": 0
      },
      "text/plain": [
       "  0%|          | 0/38000 [00:00<?, ?it/s]"
      ]
     },
     "metadata": {},
     "output_type": "display_data"
    }
   ],
   "source": [
    "cos_res = []\n",
    "legend = []\n",
    "ds = tokenized_datasets\n",
    "from tqdm.notebook import tqdm\n",
    "r_0 = r_0.to(DEVICE)\n",
    "r_1 = r_1.to(DEVICE)\n",
    "\n",
    "data1 = [[], []]\n",
    "data2 = [[], []]\n",
    "\n",
    "predictions = []\n",
    "\n",
    "with torch.no_grad():\n",
    "    for i in tqdm(range(len(tokenized_datasets))):\n",
    "        ex = ds[i]\n",
    "        label = ex[\"label\"]\n",
    "        \n",
    "        ids = torch.tensor(ex[\"input_ids\"]).unsqueeze(0)\n",
    "        att_mask = attention_mask=torch.tensor(ex[\"attention_mask\"]).unsqueeze(0)\n",
    "        \n",
    "        output_model = model(\n",
    "            input_ids = ids.to(DEVICE), \n",
    "            attention_mask = att_mask.to(DEVICE),\n",
    "        )\n",
    "        \n",
    "        pred = torch.argmax(output_model.logits, dim=-1).item()\n",
    "        predictions.append(pred)\n",
    "\n",
    "        temp = output_model.hidden_states[-1][0, 0, :]\n",
    "        \n",
    "        scalar = torch.dot(r_0, temp)\n",
    "        temp1 = (scalar / (torch.norm(temp) * torch.norm(r_0))).item()\n",
    "        \n",
    "        scalar = torch.dot(r_1, temp)\n",
    "        temp2 = (scalar / (torch.norm(temp) * torch.norm(r_1))).item()\n",
    "        \n",
    "        if label==0:\n",
    "            data1[0].append(temp1)\n",
    "            data2[1].append(temp2)\n",
    "        else:\n",
    "            data1[1].append(temp2)\n",
    "            data2[0].append(temp1)\n",
    "        \n",
    "            \n",
    "            \n",
    "        \n",
    "            \n",
    "        \n",
    "        \n",
    "        \n",
    "        \n",
    "        \n",
    "        legend.append(label)\n",
    "        if i > 5000:\n",
    "            break"
   ]
  },
  {
   "cell_type": "code",
   "execution_count": 30,
   "metadata": {},
   "outputs": [],
   "source": [
    "predictions = np.array(predictions)\n",
    "labels = np.array(legend)\n",
    "acc_res = []\n",
    "for i in range(2):\n",
    "    mask = labels==i\n",
    "    acc_res.append((predictions[mask]==i).mean())\n",
    "    "
   ]
  },
  {
   "cell_type": "code",
   "execution_count": 10,
   "metadata": {},
   "outputs": [],
   "source": [
    "import pandas as pd\n",
    "import matplotlib.pyplot as plt\n",
    "import seaborn as sns\n",
    "import tikzplotlib"
   ]
  },
  {
   "cell_type": "code",
   "execution_count": 32,
   "metadata": {},
   "outputs": [
    {
     "name": "stderr",
     "output_type": "stream",
     "text": [
      "C:\\Users\\loicf\\miniconda3\\envs\\nlp\\lib\\site-packages\\matplotlib\\cbook\\__init__.py:1376: VisibleDeprecationWarning: Creating an ndarray from ragged nested sequences (which is a list-or-tuple of lists-or-tuples-or ndarrays with different lengths or shapes) is deprecated. If you meant to do this, you must specify 'dtype=object' when creating the ndarray.\n",
      "  X = np.atleast_1d(X.T if isinstance(X, np.ndarray) else np.asarray(X))\n",
      "C:\\Users\\loicf\\miniconda3\\envs\\nlp\\lib\\site-packages\\matplotlib\\cbook\\__init__.py:1376: VisibleDeprecationWarning: Creating an ndarray from ragged nested sequences (which is a list-or-tuple of lists-or-tuples-or ndarrays with different lengths or shapes) is deprecated. If you meant to do this, you must specify 'dtype=object' when creating the ndarray.\n",
      "  X = np.atleast_1d(X.T if isinstance(X, np.ndarray) else np.asarray(X))\n"
     ]
    },
    {
     "data": {
      "image/png": "[encoded data removed]",
      "text/plain": [
       "<Figure size 1000x500 with 1 Axes>"
      ]
     },
     "metadata": {},
     "output_type": "display_data"
    }
   ],
   "source": [
    "x = [0, 1]\n",
    "figure, ax = plt.subplots(1, 1, figsize=(10, 5))\n",
    "bplot1 = ax.boxplot(data1, showfliers=False, patch_artist=True, notch=True, zorder=-1)\n",
    "bplot2 = ax.boxplot(data2, showfliers=False, patch_artist=True, notch=True, zorder=-1)\n",
    "for patch in bplot1['boxes']:\n",
    "    patch.set_facecolor(\"lightblue\")\n",
    "    \n",
    "for patch in bplot2['boxes']:\n",
    "    patch.set_facecolor(\"pink\")\n",
    "\n",
    "y1 = []\n",
    "y2 = []\n",
    "for i in range(2):\n",
    "    y1.append(np.array(data1[i]).mean())\n",
    "    y2.append(np.array(data2[i]).mean())\n",
    "ax.plot(np.array(x)+1, acc_res, \"o--\", label=\"class-accuracy\", color=\"green\", zorder=1)\n",
    "ax.plot(np.array(x)+1, y2, \"o--\", label=\"mean-cos-wrong-class\", color=\"red\", zorder=1)\n",
    "ax.plot(np.array(x)+1, y1, \"o--\", label=\"mean-cos-true-class\", color=\"blue\", zorder=1)\n",
    "ax.legend(loc='upper center', bbox_to_anchor=(0.5, 0.1),\n",
    "          ncol=3, fancybox=True, shadow=True)\n",
    "ax.set_xticks(list(range(1, 3)))\n",
    "ax.set_xticklabels([\"positive\", \"negative\"])\n",
    "ax.grid()\n",
    "temp = ax.set(\n",
    "    #xlabel=\"label-id\"\n",
    ")\n",
    "\n",
    "plt.savefig(os.path.join(\".cache_bert\", \"plots\", \"paper\", \"yelp-boxplot.png\"))"
   ]
  },
  {
   "cell_type": "code",
   "execution_count": null,
   "metadata": {},
   "outputs": [],
   "source": []
  }
 ],
 "metadata": {
  "kernelspec": {
   "display_name": "Python 3 (ipykernel)",
   "language": "python",
   "name": "python3"
  },
  "language_info": {
   "codemirror_mode": {
    "name": "ipython",
    "version": 3
   },
   "file_extension": ".py",
   "mimetype": "text/x-python",
   "name": "python",
   "nbconvert_exporter": "python",
   "pygments_lexer": "ipython3",
   "version": "3.7.13"
  }
 },
 "nbformat": 4,
 "nbformat_minor": 4
}
