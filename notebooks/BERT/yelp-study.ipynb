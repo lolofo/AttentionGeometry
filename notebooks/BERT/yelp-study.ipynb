{
 "cells": [
  {
   "cell_type": "code",
   "execution_count": 1,
   "metadata": {},
   "outputs": [],
   "source": [
    "%load_ext autoreload\n",
    "%autoreload 2\n",
    "\n",
    "INF = 1e30\n",
    "\n",
    "import os\n",
    "from os import path\n",
    "\n",
    "\n",
    "# set the repository to the git repository\n",
    "cwd = os.getcwd().split(os.path.sep)\n",
    "while cwd[-1] != \"AttentionGeometry\":\n",
    "    os.chdir(\"..\")\n",
    "    cwd = os.getcwd().split(os.path.sep)\n",
    "import numpy as np\n",
    "import torch\n",
    "import matplotlib.pyplot as plt\n",
    "import seaborn as sns\n",
    "from tqdm.notebook import tqdm\n",
    "\n",
    "# from the environment\n",
    "DEVICE = torch.device('cuda' if torch.cuda.is_available() else 'cpu')\n",
    "cache_path = path.join(os.getcwd() ,'.cache_bert')\n",
    "log_path = path.join(cache_path, 'logs')\n",
    "from src.bert_model import BertNliRegu\n",
    "from src.bert_data_module.esnli import ESNLIDataModule\n",
    "from torch.utils.data import DataLoader\n",
    "import tikzplotlib\n",
    "\n",
    "# specific file for this notebook\n",
    "from notebooks.BERT.utils.count_class import *"
   ]
  },
  {
   "cell_type": "markdown",
   "metadata": {},
   "source": [
    "# Yelp dataset"
   ]
  },
  {
   "cell_type": "code",
   "execution_count": 2,
   "metadata": {},
   "outputs": [
    {
     "name": "stderr",
     "output_type": "stream",
     "text": [
      "Reusing dataset yelp_polarity (C:\\Users\\loicf\\.cache\\huggingface\\datasets\\yelp_polarity\\plain_text\\1.0.0\\14f90415c754f47cf9087eadac25823a395fef4400c7903c5897f55cfaaa6f61)\n",
      "Loading cached processed dataset at C:\\Users\\loicf\\.cache\\huggingface\\datasets\\yelp_polarity\\plain_text\\1.0.0\\14f90415c754f47cf9087eadac25823a395fef4400c7903c5897f55cfaaa6f61\\cache-41cad18f228357e4.arrow\n"
     ]
    }
   ],
   "source": [
    "# load data and model\n",
    "from datasets import load_dataset\n",
    "dataset = load_dataset(\"yelp_polarity\", split='test')\n",
    "\n",
    "from transformers import AutoTokenizer\n",
    "tokenizer = AutoTokenizer.from_pretrained(\"bert-base-uncased\")\n",
    "\n",
    "def tokenize_function(data):\n",
    "    return tokenizer(data[\"text\"], padding=\"max_length\", truncation=True)\n",
    "\n",
    "tokenized_datasets = dataset.map(tokenize_function, batched=True)\n",
    "loader = DataLoader(tokenized_datasets, batch_size=4)\n",
    "\n",
    "from transformers import AutoModelForSequenceClassification\n",
    "\n",
    "model = AutoModelForSequenceClassification.from_pretrained(\n",
    "    os.path.join(log_path, \"yelp\", \"yelp-ft-3\"),\n",
    "    num_labels=2,\n",
    "    output_hidden_states=True\n",
    ")\n",
    "model = model.eval()\n",
    "model = model.to(DEVICE)"
   ]
  },
  {
   "cell_type": "code",
   "execution_count": null,
   "metadata": {},
   "outputs": [],
   "source": []
  }
 ],
 "metadata": {
  "kernelspec": {
   "display_name": "Python 3 (ipykernel)",
   "language": "python",
   "name": "python3"
  },
  "language_info": {
   "codemirror_mode": {
    "name": "ipython",
    "version": 3
   },
   "file_extension": ".py",
   "mimetype": "text/x-python",
   "name": "python",
   "nbconvert_exporter": "python",
   "pygments_lexer": "ipython3",
   "version": "3.7.13"
  },
  "vscode": {
   "interpreter": {
    "hash": "2d610bfb5330843e52c6b1e4272056feeee60e4b747e8cd36530d5e655bea6e2"
   }
  }
 },
 "nbformat": 4,
 "nbformat_minor": 4
}
