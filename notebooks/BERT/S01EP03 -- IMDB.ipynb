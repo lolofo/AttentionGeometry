{
 "cells": [
  {
   "cell_type": "code",
   "execution_count": 1,
   "metadata": {},
   "outputs": [
    {
     "name": "stdout",
     "output_type": "stream",
     "text": [
      ">> current directory : c:\\Users\\loicf\\Documents\\IRISA\\AttentionGeometry\n",
      ">> cache path : c:\\Users\\loicf\\Documents\\IRISA\\AttentionGeometry\\.cache_bert\n",
      ">> model path : c:\\Users\\loicf\\Documents\\IRISA\\AttentionGeometry\\.cache_bert\\models\n",
      ">> dataset path : c:\\Users\\loicf\\Documents\\IRISA\\AttentionGeometry\\.cache_bert\\dataset\n",
      ">> logs path : c:\\Users\\loicf\\Documents\\IRISA\\AttentionGeometry\\.cache_bert\\logs\n"
     ]
    }
   ],
   "source": [
    "%load_ext autoreload\n",
    "%autoreload 2\n",
    "import torch\n",
    "\n",
    "import os\n",
    "from os import path\n",
    "import sys\n",
    "cwd = os.getcwd().split(os.path.sep)\n",
    "\n",
    "# point to the git repository\n",
    "while cwd[-1] != \"AttentionGeometry\":\n",
    "    os.chdir(\"..\")\n",
    "    cwd = os.getcwd().split(os.path.sep)\n",
    "print(f\">> current directory : {os.getcwd()}\")\n",
    "\n",
    "# add the root directory\n",
    "sys.path.append(os.path.join(os.getcwd(), \"src\"))\n",
    "\n",
    "# cache and data cache\n",
    "cache_path = path.join(os.getcwd() ,'.cache_bert')\n",
    "dataset_path = path.join(cache_path, 'dataset')\n",
    "log_path = path.join(cache_path, 'logs')\n",
    "model_path = path.join(cache_path, 'models')\n",
    "print(f\">> cache path : {cache_path}\")\n",
    "print(f\">> model path : {model_path}\")\n",
    "print(f\">> dataset path : {dataset_path}\")\n",
    "print(f\">> logs path : {log_path}\")\n",
    "DEVICE = torch.device('cuda' if torch.cuda.is_available() else 'cpu')"
   ]
  },
  {
   "cell_type": "code",
   "execution_count": 2,
   "metadata": {},
   "outputs": [
    {
     "name": "stderr",
     "output_type": "stream",
     "text": [
      "Reusing dataset imdb (C:\\Users\\loicf\\.cache\\huggingface\\datasets\\imdb\\plain_text\\1.0.0\\2fdd8b9bcadd6e7055e742a706876ba43f19faee861df134affd7a3f60fc38a1)\n"
     ]
    }
   ],
   "source": [
    "from datasets import load_dataset\n",
    "dataset = load_dataset(\"imdb\", split='test')"
   ]
  },
  {
   "cell_type": "code",
   "execution_count": 3,
   "metadata": {},
   "outputs": [],
   "source": [
    "from transformers import AutoTokenizer\n",
    "tokenizer = AutoTokenizer.from_pretrained(\"bert-base-uncased\")"
   ]
  },
  {
   "cell_type": "code",
   "execution_count": 4,
   "metadata": {},
   "outputs": [
    {
     "name": "stderr",
     "output_type": "stream",
     "text": [
      "Loading cached processed dataset at C:\\Users\\loicf\\.cache\\huggingface\\datasets\\imdb\\plain_text\\1.0.0\\2fdd8b9bcadd6e7055e742a706876ba43f19faee861df134affd7a3f60fc38a1\\cache-1c7924b1003b33f4.arrow\n"
     ]
    }
   ],
   "source": [
    "def tokenize_function(data):\n",
    "  return tokenizer(data[\"text\"], padding=\"max_length\", truncation=True)\n",
    "\n",
    "tokenized_datasets = dataset.map(tokenize_function, batched=True)"
   ]
  },
  {
   "cell_type": "code",
   "execution_count": 5,
   "metadata": {},
   "outputs": [],
   "source": [
    "from transformers import AutoModelForSequenceClassification\n",
    "model = AutoModelForSequenceClassification.from_pretrained(\n",
    "    os.path.join(log_path, \"imdb\", \"imdb-ft-3\"),\n",
    "    num_labels=2,\n",
    "    output_hidden_states=True\n",
    ")\n",
    "model = model.eval()\n",
    "model = model.to(DEVICE)"
   ]
  },
  {
   "cell_type": "code",
   "execution_count": 6,
   "metadata": {},
   "outputs": [
    {
     "name": "stdout",
     "output_type": "stream",
     "text": [
      "0\n",
      "0\n",
      "pred found\n"
     ]
    }
   ],
   "source": [
    "# get the r_i\n",
    "import numpy as np\n",
    "class_1 = 0\n",
    "r_0 = None\n",
    "for i in range(len(tokenized_datasets)):\n",
    "    ex = tokenized_datasets[i]\n",
    "    label = tokenized_datasets[i][\"label\"]\n",
    "    ids = torch.tensor(ex[\"input_ids\"]).unsqueeze(0)\n",
    "    att_mask = attention_mask=torch.tensor(ex[\"attention_mask\"]).unsqueeze(0)\n",
    "    output_model = model(\n",
    "        input_ids = ids.to(DEVICE), \n",
    "        attention_mask = att_mask.to(DEVICE)\n",
    "    )\n",
    "    pred = output_model.logits\n",
    "    if label == class_1 and np.argmax(pred.detach().cpu().numpy()) == label:\n",
    "        print( np.argmax(pred.detach().cpu().numpy()))\n",
    "        print(label)\n",
    "        r_0 = output_model.hidden_states[-1][0, 0, :]\n",
    "        print(\"pred found\")\n",
    "        break"
   ]
  },
  {
   "cell_type": "code",
   "execution_count": 7,
   "metadata": {},
   "outputs": [
    {
     "data": {
      "application/vnd.jupyter.widget-view+json": {
       "model_id": "9fa7b60129e9436ea6065d972c722d8b",
       "version_major": 2,
       "version_minor": 0
      },
      "text/plain": [
       "  0%|          | 0/25000 [00:00<?, ?it/s]"
      ]
     },
     "metadata": {},
     "output_type": "display_data"
    }
   ],
   "source": [
    "cos_res = []\n",
    "legend = []\n",
    "ds = tokenized_datasets\n",
    "from tqdm.notebook import tqdm\n",
    "with torch.no_grad():\n",
    "    for i in tqdm(range(len(tokenized_datasets)), total=25000):\n",
    "\n",
    "        ex = ds[i]\n",
    "        label = ex[\"label\"]\n",
    "        ids = torch.tensor(ex[\"input_ids\"]).unsqueeze(0)\n",
    "        att_mask = attention_mask=torch.tensor(ex[\"attention_mask\"]).unsqueeze(0)\n",
    "\n",
    "        output_model = model(\n",
    "            input_ids = ids.to(DEVICE), \n",
    "            attention_mask = att_mask.to(DEVICE),\n",
    "        )\n",
    "\n",
    "        temp = output_model.hidden_states[-1][0, 0, :]\n",
    "        scalar = torch.dot(r_0, temp)\n",
    "        cos_res.append((scalar / (torch.norm(temp) * torch.norm(r_0))).item())\n",
    "        legend.append(label)\n",
    "\n",
    "        \"\"\"if i > 1000:\n",
    "            break\"\"\"\n",
    "\n",
    "\n",
    "    "
   ]
  },
  {
   "cell_type": "code",
   "execution_count": 8,
   "metadata": {},
   "outputs": [
    {
     "data": {
      "text/plain": [
       "{0, 1}"
      ]
     },
     "execution_count": 8,
     "metadata": {},
     "output_type": "execute_result"
    }
   ],
   "source": [
    "set(legend)"
   ]
  },
  {
   "cell_type": "code",
   "execution_count": 10,
   "metadata": {},
   "outputs": [],
   "source": [
    "import pandas as pd\n",
    "import matplotlib.pyplot as plt\n",
    "import seaborn as sns\n",
    "sns.set_theme()\n"
   ]
  },
  {
   "cell_type": "code",
   "execution_count": 11,
   "metadata": {},
   "outputs": [
    {
     "data": {
      "image/png": "[encoded data removed]",
      "text/plain": [
       "<Figure size 640x480 with 1 Axes>"
      ]
     },
     "metadata": {},
     "output_type": "display_data"
    }
   ],
   "source": [
    "df = pd.DataFrame({\n",
    "    \"cos\": cos_res,\n",
    "    \"label\":legend\n",
    "})\n",
    "\n",
    "sns.boxplot(data=df, x = \"label\", y=\"cos\")\n",
    "plt.savefig(\".cache_bert/plots/paper/imbd_cos_class.png\")"
   ]
  }
 ],
 "metadata": {
  "kernelspec": {
   "display_name": "nlp",
   "language": "python",
   "name": "python3"
  },
  "language_info": {
   "codemirror_mode": {
    "name": "ipython",
    "version": 3
   },
   "file_extension": ".py",
   "mimetype": "text/x-python",
   "name": "python",
   "nbconvert_exporter": "python",
   "pygments_lexer": "ipython3",
   "version": "3.7.13"
  },
  "orig_nbformat": 4
 },
 "nbformat": 4,
 "nbformat_minor": 2
}
