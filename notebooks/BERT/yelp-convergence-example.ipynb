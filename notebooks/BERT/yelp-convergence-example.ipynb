{
 "cells": [
  {
   "cell_type": "code",
   "execution_count": 1,
   "metadata": {},
   "outputs": [
    {
     "data": {
      "text/html": [
       "<pre style=\"white-space:pre;overflow-x:auto;line-height:normal;font-family:Menlo,'DejaVu Sans Mono',consolas,'Courier New',monospace\">&gt;&gt; current directory : C:\\Users\\loicf\\Documents\\IRISA\\TALN_2023\\AttentionGeometry\n",
       "</pre>\n"
      ],
      "text/plain": [
       ">> current directory : C:\\Users\\loicf\\Documents\\IRISA\\TALN_2023\\AttentionGeometry\n"
      ]
     },
     "metadata": {},
     "output_type": "display_data"
    },
    {
     "data": {
      "text/html": [
       "<pre style=\"white-space:pre;overflow-x:auto;line-height:normal;font-family:Menlo,'DejaVu Sans Mono',consolas,'Courier New',monospace\">&gt;&gt; cache path : C:\\Users\\loicf\\Documents\\IRISA\\TALN_2023\\AttentionGeometry\\.cache_bert\n",
       "</pre>\n"
      ],
      "text/plain": [
       ">> cache path : C:\\Users\\loicf\\Documents\\IRISA\\TALN_2023\\AttentionGeometry\\.cache_bert\n"
      ]
     },
     "metadata": {},
     "output_type": "display_data"
    },
    {
     "data": {
      "text/html": [
       "<pre style=\"white-space:pre;overflow-x:auto;line-height:normal;font-family:Menlo,'DejaVu Sans Mono',consolas,'Courier New',monospace\">&gt;&gt; model path : C:\\Users\\loicf\\Documents\\IRISA\\TALN_2023\\AttentionGeometry\\.cache_bert\\models\n",
       "</pre>\n"
      ],
      "text/plain": [
       ">> model path : C:\\Users\\loicf\\Documents\\IRISA\\TALN_2023\\AttentionGeometry\\.cache_bert\\models\n"
      ]
     },
     "metadata": {},
     "output_type": "display_data"
    },
    {
     "data": {
      "text/html": [
       "<pre style=\"white-space:pre;overflow-x:auto;line-height:normal;font-family:Menlo,'DejaVu Sans Mono',consolas,'Courier New',monospace\">&gt;&gt; dataset path : C:\\Users\\loicf\\Documents\\IRISA\\TALN_2023\\AttentionGeometry\\.cache_bert\\dataset\n",
       "</pre>\n"
      ],
      "text/plain": [
       ">> dataset path : C:\\Users\\loicf\\Documents\\IRISA\\TALN_2023\\AttentionGeometry\\.cache_bert\\dataset\n"
      ]
     },
     "metadata": {},
     "output_type": "display_data"
    },
    {
     "data": {
      "text/html": [
       "<pre style=\"white-space:pre;overflow-x:auto;line-height:normal;font-family:Menlo,'DejaVu Sans Mono',consolas,'Courier New',monospace\">&gt;&gt; logs path : C:\\Users\\loicf\\Documents\\IRISA\\TALN_2023\\AttentionGeometry\\.cache_bert\\logs\n",
       "</pre>\n"
      ],
      "text/plain": [
       ">> logs path : C:\\Users\\loicf\\Documents\\IRISA\\TALN_2023\\AttentionGeometry\\.cache_bert\\logs\n"
      ]
     },
     "metadata": {},
     "output_type": "display_data"
    }
   ],
   "source": [
    "%load_ext autoreload\n",
    "%autoreload 2\n",
    "import torch\n",
    "\n",
    "import os\n",
    "from os import path\n",
    "import sys\n",
    "from rich import print\n",
    "cwd = os.getcwd().split(os.path.sep)\n",
    "\n",
    "# point to the git repository\n",
    "while cwd[-1] != \"AttentionGeometry\":\n",
    "    os.chdir(\"..\")\n",
    "    cwd = os.getcwd().split(os.path.sep)\n",
    "print(f\">> current directory : {os.getcwd()}\")\n",
    "\n",
    "# add the root directory\n",
    "sys.path.append(os.path.join(os.getcwd(), \"src\"))\n",
    "\n",
    "# cache and data cache\n",
    "cache_path = path.join(os.getcwd() ,'.cache_bert')\n",
    "dataset_path = path.join(cache_path, 'dataset')\n",
    "log_path = path.join(cache_path, 'logs')\n",
    "model_path = path.join(cache_path, 'models')\n",
    "print(f\">> cache path : {cache_path}\")\n",
    "print(f\">> model path : {model_path}\")\n",
    "print(f\">> dataset path : {dataset_path}\")\n",
    "print(f\">> logs path : {log_path}\")\n",
    "DEVICE = torch.device('cuda' if torch.cuda.is_available() else 'cpu')"
   ]
  },
  {
   "cell_type": "code",
   "execution_count": 2,
   "metadata": {},
   "outputs": [
    {
     "name": "stderr",
     "output_type": "stream",
     "text": [
      "Reusing dataset yelp_polarity (C:\\Users\\loicf\\.cache\\huggingface\\datasets\\yelp_polarity\\plain_text\\1.0.0\\14f90415c754f47cf9087eadac25823a395fef4400c7903c5897f55cfaaa6f61)\n"
     ]
    }
   ],
   "source": [
    "from datasets import load_dataset\n",
    "dataset = load_dataset(\"yelp_polarity\", split='test')"
   ]
  },
  {
   "cell_type": "code",
   "execution_count": 3,
   "metadata": {},
   "outputs": [],
   "source": [
    "from transformers import AutoTokenizer\n",
    "tokenizer = AutoTokenizer.from_pretrained(\"bert-base-cased\")"
   ]
  },
  {
   "cell_type": "code",
   "execution_count": 4,
   "metadata": {},
   "outputs": [
    {
     "name": "stderr",
     "output_type": "stream",
     "text": [
      "Loading cached processed dataset at C:\\Users\\loicf\\.cache\\huggingface\\datasets\\yelp_polarity\\plain_text\\1.0.0\\14f90415c754f47cf9087eadac25823a395fef4400c7903c5897f55cfaaa6f61\\cache-e98a422d6de965cc.arrow\n"
     ]
    }
   ],
   "source": [
    "def tokenize_function(data):\n",
    "    return tokenizer(data[\"text\"], padding=\"max_length\", truncation=True)\n",
    "\n",
    "tokenized_datasets = dataset.map(tokenize_function, batched=True)\n",
    "#tokenized_datasets = tokenized_datasets.shuffle().select(range(100))"
   ]
  },
  {
   "cell_type": "code",
   "execution_count": 5,
   "metadata": {},
   "outputs": [
    {
     "data": {
      "text/html": [
       "<pre style=\"white-space:pre;overflow-x:auto;line-height:normal;font-family:Menlo,'DejaVu Sans Mono',consolas,'Courier New',monospace\"><span style=\"color: #800080; text-decoration-color: #800080; font-weight: bold\">Dataset</span><span style=\"font-weight: bold\">({</span>\n",
       "    features: <span style=\"font-weight: bold\">[</span><span style=\"color: #008000; text-decoration-color: #008000\">'text'</span>, <span style=\"color: #008000; text-decoration-color: #008000\">'label'</span>, <span style=\"color: #008000; text-decoration-color: #008000\">'input_ids'</span>, <span style=\"color: #008000; text-decoration-color: #008000\">'token_type_ids'</span>, <span style=\"color: #008000; text-decoration-color: #008000\">'attention_mask'</span><span style=\"font-weight: bold\">]</span>,\n",
       "    num_rows: <span style=\"color: #008080; text-decoration-color: #008080; font-weight: bold\">38000</span>\n",
       "<span style=\"font-weight: bold\">})</span>\n",
       "</pre>\n"
      ],
      "text/plain": [
       "\u001b[1;35mDataset\u001b[0m\u001b[1m(\u001b[0m\u001b[1m{\u001b[0m\n",
       "    features: \u001b[1m[\u001b[0m\u001b[32m'text'\u001b[0m, \u001b[32m'label'\u001b[0m, \u001b[32m'input_ids'\u001b[0m, \u001b[32m'token_type_ids'\u001b[0m, \u001b[32m'attention_mask'\u001b[0m\u001b[1m]\u001b[0m,\n",
       "    num_rows: \u001b[1;36m38000\u001b[0m\n",
       "\u001b[1m}\u001b[0m\u001b[1m)\u001b[0m\n"
      ]
     },
     "metadata": {},
     "output_type": "display_data"
    }
   ],
   "source": [
    "print(tokenized_datasets)"
   ]
  },
  {
   "cell_type": "code",
   "execution_count": 6,
   "metadata": {},
   "outputs": [],
   "source": [
    "from transformers import AutoModelForSequenceClassification\n",
    "\n",
    "model = AutoModelForSequenceClassification.from_pretrained(\n",
    "    os.path.join(log_path, \"yelp\", \"yelp-ft-3\"),\n",
    "    num_labels=2,\n",
    "    output_hidden_states=True\n",
    ")\n",
    "model = model.eval()"
   ]
  },
  {
   "cell_type": "code",
   "execution_count": null,
   "metadata": {},
   "outputs": [],
   "source": [
    "# get the r_i\n",
    "import numpy as np\n",
    "class_1 = 0\n",
    "r_0 = Nonex\n",
    "rep = None\n",
    "for i in range(len(tokenized_datasets)):\n",
    "    ex = tokenized_datasets[i]\n",
    "    label = tokenized_datasets[i][\"label\"]\n",
    "    ids = torch.tensor(ex[\"input_ids\"]).unsqueeze(0)\n",
    "    att_mask = attention_mask=torch.tensor(ex[\"attention_mask\"]).unsqueeze(0)\n",
    "    output_model = model(\n",
    "        input_ids = ids, \n",
    "        attention_mask = att_mask\n",
    "    )\n",
    "    pred = output_model.logits\n",
    "    if label == class_1 and np.argmax(pred.detach().cpu().numpy()) == label:\n",
    "        r_0 = outm\n",
    "        put_model.hidden_states[-1][0, 0, :]\n",
    "        print(\"pred found\")\n",
    "        rep = tokenized_datasets[i]\n",
    "        idx = i\n",
    "        break"
   ]
  },
  {
   "cell_type": "code",
   "execution_count": 8,
   "metadata": {},
   "outputs": [
    {
     "data": {
      "text/plain": [
       "torch.Size([768])"
      ]
     },
     "execution_count": 8,
     "metadata": {},
     "output_type": "execute_result"
    }
   ],
   "source": [
    "r_0.shape"
   ]
  },
  {
   "cell_type": "code",
   "execution_count": 9,
   "metadata": {},
   "outputs": [
    {
     "data": {
      "text/html": [
       "<pre style=\"white-space:pre;overflow-x:auto;line-height:normal;font-family:Menlo,'DejaVu Sans Mono',consolas,'Courier New',monospace\">Last summer I had an appointment to get new tires and had to wait a super long time. I also went in this week for \n",
       "them to fix a minor problem with a tire they put on. They \\\"<span style=\"color: #008000; text-decoration-color: #008000\">\"fixed\\\"\"</span> it for free, and the very next morning I had \n",
       "the same issue. I called to complain, and the \\\"<span style=\"color: #008000; text-decoration-color: #008000\">\"manager\\\"\"</span> didn't even apologize!!! So frustrated. Never going \n",
       "back.  They seem overpriced, too.\n",
       "</pre>\n"
      ],
      "text/plain": [
       "Last summer I had an appointment to get new tires and had to wait a super long time. I also went in this week for \n",
       "them to fix a minor problem with a tire they put on. They \\\"\u001b[32m\"fixed\\\"\"\u001b[0m it for free, and the very next morning I had \n",
       "the same issue. I called to complain, and the \\\"\u001b[32m\"manager\\\"\"\u001b[0m didn't even apologize!!! So frustrated. Never going \n",
       "back.  They seem overpriced, too.\n"
      ]
     },
     "metadata": {},
     "output_type": "display_data"
    }
   ],
   "source": [
    "print(rep[\"text\"])"
   ]
  },
  {
   "cell_type": "code",
   "execution_count": 10,
   "metadata": {},
   "outputs": [
    {
     "data": {
      "text/html": [
       "<pre style=\"white-space:pre;overflow-x:auto;line-height:normal;font-family:Menlo,'DejaVu Sans Mono',consolas,'Courier New',monospace\"><span style=\"color: #008080; text-decoration-color: #008080; font-weight: bold\">1</span>\n",
       "</pre>\n"
      ],
      "text/plain": [
       "\u001b[1;36m1\u001b[0m\n"
      ]
     },
     "metadata": {},
     "output_type": "display_data"
    }
   ],
   "source": [
    "print(idx)"
   ]
  },
  {
   "cell_type": "markdown",
   "metadata": {},
   "source": [
    "On a ici le représentant de la classe 0"
   ]
  },
  {
   "cell_type": "code",
   "execution_count": 11,
   "metadata": {},
   "outputs": [
    {
     "data": {
      "application/vnd.jupyter.widget-view+json": {
       "model_id": "6d55cd8c4f9449d8b7495b96f0bfb70a",
       "version_major": 2,
       "version_minor": 0
      },
      "text/plain": [
       "  0%|          | 0/38000 [00:00<?, ?it/s]"
      ]
     },
     "metadata": {},
     "output_type": "display_data"
    }
   ],
   "source": [
    "cos_res = []\n",
    "legend = []\n",
    "ds = tokenized_datasets\n",
    "from tqdm.notebook import tqdm\n",
    "model = model.to(DEVICE)\n",
    "model = model.eval()\n",
    "r_0 = r_0.to(DEVICE)\n",
    "\n",
    "labels = []\n",
    "cosine = []\n",
    "pos = []\n",
    "\n",
    "\n",
    "with torch.no_grad():\n",
    "    for i in tqdm(range(len(tokenized_datasets))):\n",
    "        if i != idx:\n",
    "            ex = ds[i]\n",
    "            label = ex[\"label\"]\n",
    "            ids = torch.tensor(ex[\"input_ids\"]).unsqueeze(0)\n",
    "            att_mask = attention_mask=torch.tensor(ex[\"attention_mask\"]).unsqueeze(0)\n",
    "            output_model = model(\n",
    "                input_ids = ids.to(DEVICE), \n",
    "                attention_mask = att_mask.to(DEVICE),\n",
    "            )\n",
    "\n",
    "            temp = output_model.hidden_states[-1][0, 0, :]\n",
    "            scalar = torch.dot(r_0, temp)\n",
    "            cosine.append((scalar / (torch.norm(temp) * torch.norm(r_0))).item())\n",
    "            labels.append(label)\n",
    "            pos.append(i)"
   ]
  },
  {
   "cell_type": "markdown",
   "metadata": {},
   "source": [
    "Argmax avec le pivot"
   ]
  },
  {
   "cell_type": "code",
   "execution_count": 12,
   "metadata": {},
   "outputs": [
    {
     "data": {
      "text/html": [
       "<pre style=\"white-space:pre;overflow-x:auto;line-height:normal;font-family:Menlo,'DejaVu Sans Mono',consolas,'Courier New',monospace\"><span style=\"color: #008080; text-decoration-color: #008080; font-weight: bold\">14121</span>\n",
       "</pre>\n"
      ],
      "text/plain": [
       "\u001b[1;36m14121\u001b[0m\n"
      ]
     },
     "metadata": {},
     "output_type": "display_data"
    },
    {
     "data": {
      "text/html": [
       "<pre style=\"white-space:pre;overflow-x:auto;line-height:normal;font-family:Menlo,'DejaVu Sans Mono',consolas,'Courier New',monospace\">---\n",
       "</pre>\n"
      ],
      "text/plain": [
       "---\n"
      ]
     },
     "metadata": {},
     "output_type": "display_data"
    },
    {
     "data": {
      "text/html": [
       "<pre style=\"white-space:pre;overflow-x:auto;line-height:normal;font-family:Menlo,'DejaVu Sans Mono',consolas,'Courier New',monospace\">cos :  <span style=\"color: #008080; text-decoration-color: #008080; font-weight: bold\">0.9637202620506287</span>\n",
       "</pre>\n"
      ],
      "text/plain": [
       "cos :  \u001b[1;36m0.9637202620506287\u001b[0m\n"
      ]
     },
     "metadata": {},
     "output_type": "display_data"
    },
    {
     "data": {
      "text/html": [
       "<pre style=\"white-space:pre;overflow-x:auto;line-height:normal;font-family:Menlo,'DejaVu Sans Mono',consolas,'Courier New',monospace\">Been coming to cafe rio for awesome fast Mexican food for years. Lived in Utah for a while<span style=\"color: #808000; text-decoration-color: #808000\">...</span>just like you Camilla \n",
       "k. I loved the ones in Utah and thought I would give this one a chance. The manager guy, don't know his name, is a \n",
       "total jerk. The food wasn't even warm. It was cold. My wife and I are sitting here right now and I'm so upset that \n",
       "I have to leave this review right now. Just awful service and not even good food anymore. Gradually getting worse. \n",
       "I'm going to costa vida from now on.\n",
       "</pre>\n"
      ],
      "text/plain": [
       "Been coming to cafe rio for awesome fast Mexican food for years. Lived in Utah for a while\u001b[33m...\u001b[0mjust like you Camilla \n",
       "k. I loved the ones in Utah and thought I would give this one a chance. The manager guy, don't know his name, is a \n",
       "total jerk. The food wasn't even warm. It was cold. My wife and I are sitting here right now and I'm so upset that \n",
       "I have to leave this review right now. Just awful service and not even good food anymore. Gradually getting worse. \n",
       "I'm going to costa vida from now on.\n"
      ]
     },
     "metadata": {},
     "output_type": "display_data"
    },
    {
     "data": {
      "text/html": [
       "<pre style=\"white-space:pre;overflow-x:auto;line-height:normal;font-family:Menlo,'DejaVu Sans Mono',consolas,'Courier New',monospace\"><span style=\"color: #008080; text-decoration-color: #008080; font-weight: bold\">30701</span>\n",
       "</pre>\n"
      ],
      "text/plain": [
       "\u001b[1;36m30701\u001b[0m\n"
      ]
     },
     "metadata": {},
     "output_type": "display_data"
    },
    {
     "data": {
      "text/html": [
       "<pre style=\"white-space:pre;overflow-x:auto;line-height:normal;font-family:Menlo,'DejaVu Sans Mono',consolas,'Courier New',monospace\">---\n",
       "</pre>\n"
      ],
      "text/plain": [
       "---\n"
      ]
     },
     "metadata": {},
     "output_type": "display_data"
    },
    {
     "data": {
      "text/html": [
       "<pre style=\"white-space:pre;overflow-x:auto;line-height:normal;font-family:Menlo,'DejaVu Sans Mono',consolas,'Courier New',monospace\">cos :  <span style=\"color: #008080; text-decoration-color: #008080; font-weight: bold\">0.9397520422935486</span>\n",
       "</pre>\n"
      ],
      "text/plain": [
       "cos :  \u001b[1;36m0.9397520422935486\u001b[0m\n"
      ]
     },
     "metadata": {},
     "output_type": "display_data"
    },
    {
     "data": {
      "text/html": [
       "<pre style=\"white-space:pre;overflow-x:auto;line-height:normal;font-family:Menlo,'DejaVu Sans Mono',consolas,'Courier New',monospace\">SO GOOD!!!!!!! The only roll I got that wasn't good was a lobster roll. It just had no flavor. Everything else I \n",
       "had was AMAZING!!! \\nNow that I'm done raving about the food, I do have two complaints. <span style=\"color: #008080; text-decoration-color: #008080; font-weight: bold\">1</span><span style=\"font-weight: bold\">)</span> The hostess wasn't super\n",
       "friendly or anything. She was really hard to understand and made no effort to speak more clearly so we'd know what \n",
       "she was talking about. <span style=\"color: #008080; text-decoration-color: #008080; font-weight: bold\">2</span><span style=\"font-weight: bold\">)</span> There's no where near enough tables. The place is an okay size but there's probably only \n",
       "like <span style=\"color: #008080; text-decoration-color: #008080; font-weight: bold\">10</span> tables? Maybe I'm remembering wrong. There's also no sushi bar, which I don't care about, but some people \n",
       "do.\n",
       "</pre>\n"
      ],
      "text/plain": [
       "SO GOOD!!!!!!! The only roll I got that wasn't good was a lobster roll. It just had no flavor. Everything else I \n",
       "had was AMAZING!!! \\nNow that I'm done raving about the food, I do have two complaints. \u001b[1;36m1\u001b[0m\u001b[1m)\u001b[0m The hostess wasn't super\n",
       "friendly or anything. She was really hard to understand and made no effort to speak more clearly so we'd know what \n",
       "she was talking about. \u001b[1;36m2\u001b[0m\u001b[1m)\u001b[0m There's no where near enough tables. The place is an okay size but there's probably only \n",
       "like \u001b[1;36m10\u001b[0m tables? Maybe I'm remembering wrong. There's also no sushi bar, which I don't care about, but some people \n",
       "do.\n"
      ]
     },
     "metadata": {},
     "output_type": "display_data"
    }
   ],
   "source": [
    "cosine = np.array(cosine)\n",
    "labels = np.array(labels)\n",
    "pos = np.array(pos)\n",
    "\n",
    "\n",
    "mask1 = (labels == 0)\n",
    "temp_labels = labels[mask1]\n",
    "temp_pos = pos[mask1]\n",
    "temp_cos = cosine[mask1]\n",
    "p = np.argmax(temp_cos)\n",
    "temp_idx = int(temp_pos[p])\n",
    "print(temp_idx)\n",
    "print(\"---\")\n",
    "print(\"cos : \", temp_cos[p])\n",
    "print(tokenized_datasets[temp_idx][\"text\"])\n",
    "\n",
    "mask1 = (labels == 1)\n",
    "temp_labels = labels[mask1]\n",
    "temp_pos = pos[mask1]\n",
    "temp_cos = cosine[mask1]\n",
    "p = np.argmax(temp_cos)\n",
    "temp_idx = int(temp_pos[p])\n",
    "print(temp_idx)\n",
    "print(\"---\")\n",
    "print(\"cos : \", temp_cos[p])\n",
    "print(tokenized_datasets[temp_idx][\"text\"])"
   ]
  },
  {
   "cell_type": "markdown",
   "metadata": {},
   "source": [
    "argmin avec le pivot"
   ]
  },
  {
   "cell_type": "code",
   "execution_count": 14,
   "metadata": {},
   "outputs": [
    {
     "data": {
      "text/html": [
       "<pre style=\"white-space:pre;overflow-x:auto;line-height:normal;font-family:Menlo,'DejaVu Sans Mono',consolas,'Courier New',monospace\"><span style=\"color: #008080; text-decoration-color: #008080; font-weight: bold\">11413</span>\n",
       "</pre>\n"
      ],
      "text/plain": [
       "\u001b[1;36m11413\u001b[0m\n"
      ]
     },
     "metadata": {},
     "output_type": "display_data"
    },
    {
     "data": {
      "text/html": [
       "<pre style=\"white-space:pre;overflow-x:auto;line-height:normal;font-family:Menlo,'DejaVu Sans Mono',consolas,'Courier New',monospace\">---\n",
       "</pre>\n"
      ],
      "text/plain": [
       "---\n"
      ]
     },
     "metadata": {},
     "output_type": "display_data"
    },
    {
     "data": {
      "text/html": [
       "<pre style=\"white-space:pre;overflow-x:auto;line-height:normal;font-family:Menlo,'DejaVu Sans Mono',consolas,'Courier New',monospace\">cos :  <span style=\"color: #008080; text-decoration-color: #008080; font-weight: bold\">0.0886659175157547</span>\n",
       "</pre>\n"
      ],
      "text/plain": [
       "cos :  \u001b[1;36m0.0886659175157547\u001b[0m\n"
      ]
     },
     "metadata": {},
     "output_type": "display_data"
    },
    {
     "data": {
      "text/html": [
       "<pre style=\"white-space:pre;overflow-x:auto;line-height:normal;font-family:Menlo,'DejaVu Sans Mono',consolas,'Courier New',monospace\">Expensive Gringo Mexican food.  Saving grace is the setting.  Wonderful pond with ducks in the middle of the \n",
       "facility.  Go for the beauty of it, not for the \\\"<span style=\"color: #008000; text-decoration-color: #008000\">\"Mexican\\\"\"</span> food.  They seem to cater to the Cave Creek tourist \n",
       "\\\"<span style=\"color: #008000; text-decoration-color: #008000\">\"semi cowboy\\\"\"</span> trade.\n",
       "</pre>\n"
      ],
      "text/plain": [
       "Expensive Gringo Mexican food.  Saving grace is the setting.  Wonderful pond with ducks in the middle of the \n",
       "facility.  Go for the beauty of it, not for the \\\"\u001b[32m\"Mexican\\\"\"\u001b[0m food.  They seem to cater to the Cave Creek tourist \n",
       "\\\"\u001b[32m\"semi cowboy\\\"\"\u001b[0m trade.\n"
      ]
     },
     "metadata": {},
     "output_type": "display_data"
    },
    {
     "data": {
      "text/html": [
       "<pre style=\"white-space:pre;overflow-x:auto;line-height:normal;font-family:Menlo,'DejaVu Sans Mono',consolas,'Courier New',monospace\"><span style=\"color: #008080; text-decoration-color: #008080; font-weight: bold\">36024</span>\n",
       "</pre>\n"
      ],
      "text/plain": [
       "\u001b[1;36m36024\u001b[0m\n"
      ]
     },
     "metadata": {},
     "output_type": "display_data"
    },
    {
     "data": {
      "text/html": [
       "<pre style=\"white-space:pre;overflow-x:auto;line-height:normal;font-family:Menlo,'DejaVu Sans Mono',consolas,'Courier New',monospace\">---\n",
       "</pre>\n"
      ],
      "text/plain": [
       "---\n"
      ]
     },
     "metadata": {},
     "output_type": "display_data"
    },
    {
     "data": {
      "text/html": [
       "<pre style=\"white-space:pre;overflow-x:auto;line-height:normal;font-family:Menlo,'DejaVu Sans Mono',consolas,'Courier New',monospace\">cos :  <span style=\"color: #008080; text-decoration-color: #008080; font-weight: bold\">0.19999432563781738</span>\n",
       "</pre>\n"
      ],
      "text/plain": [
       "cos :  \u001b[1;36m0.19999432563781738\u001b[0m\n"
      ]
     },
     "metadata": {},
     "output_type": "display_data"
    },
    {
     "data": {
      "text/html": [
       "<pre style=\"white-space:pre;overflow-x:auto;line-height:normal;font-family:Menlo,'DejaVu Sans Mono',consolas,'Courier New',monospace\">I am a huge steak person. I live in LA and I've been to every fancy steakhouse in LA, most of the well known \n",
       "steakhouses in NY and Vegas. \\n\\nEcho and Rig may not be the best steakhouse I've ever been to, but it's up there. \n",
       "What truly impressed me was the value. The steaks and appetizers were as good as Mastro's <span style=\"font-weight: bold\">(</span>both Vegas and LA<span style=\"font-weight: bold\">)</span> yet \n",
       "it cost almost half as much. The service was as good. \\n\\nI've told my wife that we'll be going there every time we\n",
       "go to Vegas.\n",
       "</pre>\n"
      ],
      "text/plain": [
       "I am a huge steak person. I live in LA and I've been to every fancy steakhouse in LA, most of the well known \n",
       "steakhouses in NY and Vegas. \\n\\nEcho and Rig may not be the best steakhouse I've ever been to, but it's up there. \n",
       "What truly impressed me was the value. The steaks and appetizers were as good as Mastro's \u001b[1m(\u001b[0mboth Vegas and LA\u001b[1m)\u001b[0m yet \n",
       "it cost almost half as much. The service was as good. \\n\\nI've told my wife that we'll be going there every time we\n",
       "go to Vegas.\n"
      ]
     },
     "metadata": {},
     "output_type": "display_data"
    }
   ],
   "source": [
    "mask1 = (labels == 0)\n",
    "temp_labels = labels[mask1]\n",
    "temp_pos = pos[mask1]\n",
    "temp_cos = cosine[mask1]\n",
    "p = np.argmin(temp_cos)\n",
    "temp_idx = int(temp_pos[p])\n",
    "print(temp_idx)\n",
    "print(\"---\")\n",
    "print(\"cos : \", temp_cos[p])\n",
    "print(tokenized_datasets[temp_idx][\"text\"])\n",
    "\n",
    "# search for the closest to the median\n",
    "mask1 = (labels == 1)\n",
    "temp_labels = labels[mask1]\n",
    "temp_pos = pos[mask1]\n",
    "real_temp_cos = cosine[mask1]\n",
    "temp_cos = np.abs(cosine[mask1] - 0.2)\n",
    "p = np.argmin(temp_cos)\n",
    "temp_idx = int(temp_pos[p])\n",
    "print(temp_idx)\n",
    "print(\"---\")\n",
    "print(\"cos : \", real_temp_cos[p])\n",
    "print(tokenized_datasets[temp_idx][\"text\"])"
   ]
  },
  {
   "cell_type": "code",
   "execution_count": 7,
   "metadata": {},
   "outputs": [],
   "source": [
    "def analysis(text):\n",
    "    with torch.no_grad():\n",
    "        inp = tokenizer(text, return_tensors=\"pt\")\n",
    "        output = model(**inp)\n",
    "        h = output.hidden_states[-1][0, 0, :]\n",
    "        pred = torch.argmax(output.logits, dim=-1).item()\n",
    "    return h, pred"
   ]
  },
  {
   "cell_type": "markdown",
   "metadata": {},
   "source": [
    "## Syntaxique analysis"
   ]
  },
  {
   "cell_type": "code",
   "execution_count": 12,
   "metadata": {},
   "outputs": [
    {
     "data": {
      "text/html": [
       "<pre style=\"white-space:pre;overflow-x:auto;line-height:normal;font-family:Menlo,'DejaVu Sans Mono',consolas,'Courier New',monospace\">class <span style=\"color: #008080; text-decoration-color: #008080; font-weight: bold\">1</span> :  <span style=\"color: #008080; text-decoration-color: #008080; font-weight: bold\">1</span>\n",
       "</pre>\n"
      ],
      "text/plain": [
       "class \u001b[1;36m1\u001b[0m :  \u001b[1;36m1\u001b[0m\n"
      ]
     },
     "metadata": {},
     "output_type": "display_data"
    },
    {
     "data": {
      "text/html": [
       "<pre style=\"white-space:pre;overflow-x:auto;line-height:normal;font-family:Menlo,'DejaVu Sans Mono',consolas,'Courier New',monospace\">class <span style=\"color: #008080; text-decoration-color: #008080; font-weight: bold\">2</span> :  <span style=\"color: #008080; text-decoration-color: #008080; font-weight: bold\">0</span>\n",
       "</pre>\n"
      ],
      "text/plain": [
       "class \u001b[1;36m2\u001b[0m :  \u001b[1;36m0\u001b[0m\n"
      ]
     },
     "metadata": {},
     "output_type": "display_data"
    },
    {
     "data": {
      "text/html": [
       "<pre style=\"white-space:pre;overflow-x:auto;line-height:normal;font-family:Menlo,'DejaVu Sans Mono',consolas,'Courier New',monospace\"><span style=\"color: #800080; text-decoration-color: #800080; font-weight: bold\">tensor</span><span style=\"font-weight: bold\">(</span><span style=\"color: #008080; text-decoration-color: #008080; font-weight: bold\">0.3985</span><span style=\"font-weight: bold\">)</span>\n",
       "</pre>\n"
      ],
      "text/plain": [
       "\u001b[1;35mtensor\u001b[0m\u001b[1m(\u001b[0m\u001b[1;36m0.3985\u001b[0m\u001b[1m)\u001b[0m\n"
      ]
     },
     "metadata": {},
     "output_type": "display_data"
    }
   ],
   "source": [
    "sent1 = \"I liked this restaurant\"\n",
    "sent2 = \"I didn't like this restaurant\"\n",
    "t1, p1 = analysis(sent1)\n",
    "t2, p2 = analysis(sent2)\n",
    "print(\"class 1 : \", p1)\n",
    "print(\"class 2 : \", p2)\n",
    "print(torch.dot(t1, t2)/(torch.norm(t1, p=2)*torch.norm(t2, p=2)))"
   ]
  },
  {
   "cell_type": "code",
   "execution_count": 19,
   "metadata": {},
   "outputs": [
    {
     "data": {
      "text/html": [
       "<pre style=\"white-space:pre;overflow-x:auto;line-height:normal;font-family:Menlo,'DejaVu Sans Mono',consolas,'Courier New',monospace\">class <span style=\"color: #008080; text-decoration-color: #008080; font-weight: bold\">1</span> :  <span style=\"color: #008080; text-decoration-color: #008080; font-weight: bold\">1</span>\n",
       "</pre>\n"
      ],
      "text/plain": [
       "class \u001b[1;36m1\u001b[0m :  \u001b[1;36m1\u001b[0m\n"
      ]
     },
     "metadata": {},
     "output_type": "display_data"
    },
    {
     "data": {
      "text/html": [
       "<pre style=\"white-space:pre;overflow-x:auto;line-height:normal;font-family:Menlo,'DejaVu Sans Mono',consolas,'Courier New',monospace\">class <span style=\"color: #008080; text-decoration-color: #008080; font-weight: bold\">2</span> :  <span style=\"color: #008080; text-decoration-color: #008080; font-weight: bold\">1</span>\n",
       "</pre>\n"
      ],
      "text/plain": [
       "class \u001b[1;36m2\u001b[0m :  \u001b[1;36m1\u001b[0m\n"
      ]
     },
     "metadata": {},
     "output_type": "display_data"
    },
    {
     "data": {
      "text/html": [
       "<pre style=\"white-space:pre;overflow-x:auto;line-height:normal;font-family:Menlo,'DejaVu Sans Mono',consolas,'Courier New',monospace\"><span style=\"color: #800080; text-decoration-color: #800080; font-weight: bold\">tensor</span><span style=\"font-weight: bold\">(</span><span style=\"color: #008080; text-decoration-color: #008080; font-weight: bold\">0.8125</span><span style=\"font-weight: bold\">)</span>\n",
       "</pre>\n"
      ],
      "text/plain": [
       "\u001b[1;35mtensor\u001b[0m\u001b[1m(\u001b[0m\u001b[1;36m0.8125\u001b[0m\u001b[1m)\u001b[0m\n"
      ]
     },
     "metadata": {},
     "output_type": "display_data"
    }
   ],
   "source": [
    "sent1 = \"I found it so great\"\n",
    "sent2 = \"I found it not so great\"\n",
    "t1, p1 = analysis(sent1)\n",
    "t2, p2 = analysis(sent2)\n",
    "print(\"class 1 : \", p1)\n",
    "print(\"class 2 : \", p2)\n",
    "print(torch.dot(t1, t2)/(torch.norm(t1, p=2)*torch.norm(t2, p=2)))"
   ]
  },
  {
   "cell_type": "markdown",
   "metadata": {},
   "source": [
    "## Lexical"
   ]
  },
  {
   "cell_type": "code",
   "execution_count": 14,
   "metadata": {},
   "outputs": [
    {
     "data": {
      "text/html": [
       "<pre style=\"white-space:pre;overflow-x:auto;line-height:normal;font-family:Menlo,'DejaVu Sans Mono',consolas,'Courier New',monospace\">class <span style=\"color: #008080; text-decoration-color: #008080; font-weight: bold\">1</span> :  <span style=\"color: #008080; text-decoration-color: #008080; font-weight: bold\">1</span>\n",
       "</pre>\n"
      ],
      "text/plain": [
       "class \u001b[1;36m1\u001b[0m :  \u001b[1;36m1\u001b[0m\n"
      ]
     },
     "metadata": {},
     "output_type": "display_data"
    },
    {
     "data": {
      "text/html": [
       "<pre style=\"white-space:pre;overflow-x:auto;line-height:normal;font-family:Menlo,'DejaVu Sans Mono',consolas,'Courier New',monospace\">class <span style=\"color: #008080; text-decoration-color: #008080; font-weight: bold\">2</span> :  <span style=\"color: #008080; text-decoration-color: #008080; font-weight: bold\">0</span>\n",
       "</pre>\n"
      ],
      "text/plain": [
       "class \u001b[1;36m2\u001b[0m :  \u001b[1;36m0\u001b[0m\n"
      ]
     },
     "metadata": {},
     "output_type": "display_data"
    },
    {
     "data": {
      "text/html": [
       "<pre style=\"white-space:pre;overflow-x:auto;line-height:normal;font-family:Menlo,'DejaVu Sans Mono',consolas,'Courier New',monospace\"><span style=\"color: #800080; text-decoration-color: #800080; font-weight: bold\">tensor</span><span style=\"font-weight: bold\">(</span><span style=\"color: #008080; text-decoration-color: #008080; font-weight: bold\">0.5479</span><span style=\"font-weight: bold\">)</span>\n",
       "</pre>\n"
      ],
      "text/plain": [
       "\u001b[1;35mtensor\u001b[0m\u001b[1m(\u001b[0m\u001b[1;36m0.5479\u001b[0m\u001b[1m)\u001b[0m\n"
      ]
     },
     "metadata": {},
     "output_type": "display_data"
    }
   ],
   "source": [
    "sent1 = \"It was good\"\n",
    "sent2 = \"It was awfull\"\n",
    "t1, p1 = analysis(sent1)\n",
    "t2, p2 = analysis(sent2)\n",
    "print(\"class 1 : \", p1)\n",
    "print(\"class 2 : \", p2)\n",
    "print(torch.dot(t1, t2)/(torch.norm(t1, p=2)*torch.norm(t2, p=2)))"
   ]
  },
  {
   "cell_type": "code",
   "execution_count": 15,
   "metadata": {},
   "outputs": [
    {
     "data": {
      "text/html": [
       "<pre style=\"white-space:pre;overflow-x:auto;line-height:normal;font-family:Menlo,'DejaVu Sans Mono',consolas,'Courier New',monospace\">class <span style=\"color: #008080; text-decoration-color: #008080; font-weight: bold\">1</span> :  <span style=\"color: #008080; text-decoration-color: #008080; font-weight: bold\">1</span>\n",
       "</pre>\n"
      ],
      "text/plain": [
       "class \u001b[1;36m1\u001b[0m :  \u001b[1;36m1\u001b[0m\n"
      ]
     },
     "metadata": {},
     "output_type": "display_data"
    },
    {
     "data": {
      "text/html": [
       "<pre style=\"white-space:pre;overflow-x:auto;line-height:normal;font-family:Menlo,'DejaVu Sans Mono',consolas,'Courier New',monospace\">class <span style=\"color: #008080; text-decoration-color: #008080; font-weight: bold\">2</span> :  <span style=\"color: #008080; text-decoration-color: #008080; font-weight: bold\">0</span>\n",
       "</pre>\n"
      ],
      "text/plain": [
       "class \u001b[1;36m2\u001b[0m :  \u001b[1;36m0\u001b[0m\n"
      ]
     },
     "metadata": {},
     "output_type": "display_data"
    },
    {
     "data": {
      "text/html": [
       "<pre style=\"white-space:pre;overflow-x:auto;line-height:normal;font-family:Menlo,'DejaVu Sans Mono',consolas,'Courier New',monospace\"><span style=\"color: #800080; text-decoration-color: #800080; font-weight: bold\">tensor</span><span style=\"font-weight: bold\">(</span><span style=\"color: #008080; text-decoration-color: #008080; font-weight: bold\">0.5530</span><span style=\"font-weight: bold\">)</span>\n",
       "</pre>\n"
      ],
      "text/plain": [
       "\u001b[1;35mtensor\u001b[0m\u001b[1m(\u001b[0m\u001b[1;36m0.5530\u001b[0m\u001b[1m)\u001b[0m\n"
      ]
     },
     "metadata": {},
     "output_type": "display_data"
    }
   ],
   "source": [
    "sent1 = \"Very good\"\n",
    "sent2 = \"Very bad\"\n",
    "t1, p1 = analysis(sent1)\n",
    "t2, p2 = analysis(sent2)\n",
    "print(\"class 1 : \", p1)\n",
    "print(\"class 2 : \", p2)\n",
    "print(torch.dot(t1, t2)/(torch.norm(t1, p=2)*torch.norm(t2, p=2)))"
   ]
  },
  {
   "cell_type": "code",
   "execution_count": 10,
   "metadata": {},
   "outputs": [
    {
     "data": {
      "text/html": [
       "<pre style=\"white-space:pre;overflow-x:auto;line-height:normal;font-family:Menlo,'DejaVu Sans Mono',consolas,'Courier New',monospace\">class <span style=\"color: #008080; text-decoration-color: #008080; font-weight: bold\">1</span> :  <span style=\"color: #008080; text-decoration-color: #008080; font-weight: bold\">1</span>\n",
       "</pre>\n"
      ],
      "text/plain": [
       "class \u001b[1;36m1\u001b[0m :  \u001b[1;36m1\u001b[0m\n"
      ]
     },
     "metadata": {},
     "output_type": "display_data"
    },
    {
     "data": {
      "text/html": [
       "<pre style=\"white-space:pre;overflow-x:auto;line-height:normal;font-family:Menlo,'DejaVu Sans Mono',consolas,'Courier New',monospace\">class <span style=\"color: #008080; text-decoration-color: #008080; font-weight: bold\">2</span> :  <span style=\"color: #008080; text-decoration-color: #008080; font-weight: bold\">0</span>\n",
       "</pre>\n"
      ],
      "text/plain": [
       "class \u001b[1;36m2\u001b[0m :  \u001b[1;36m0\u001b[0m\n"
      ]
     },
     "metadata": {},
     "output_type": "display_data"
    },
    {
     "data": {
      "text/html": [
       "<pre style=\"white-space:pre;overflow-x:auto;line-height:normal;font-family:Menlo,'DejaVu Sans Mono',consolas,'Courier New',monospace\"><span style=\"color: #800080; text-decoration-color: #800080; font-weight: bold\">tensor</span><span style=\"font-weight: bold\">(</span><span style=\"color: #008080; text-decoration-color: #008080; font-weight: bold\">0.4022</span><span style=\"font-weight: bold\">)</span>\n",
       "</pre>\n"
      ],
      "text/plain": [
       "\u001b[1;35mtensor\u001b[0m\u001b[1m(\u001b[0m\u001b[1;36m0.4022\u001b[0m\u001b[1m)\u001b[0m\n"
      ]
     },
     "metadata": {},
     "output_type": "display_data"
    }
   ],
   "source": [
    "sent1 = \"This is the greatest restaurant I've ever been to\"\n",
    "sent2 = \"This is the worst restaurant I've ever been to\"\n",
    "t1, p1 = analysis(sent1)\n",
    "t2, p2 = analysis(sent2)\n",
    "print(\"class 1 : \", p1)\n",
    "print(\"class 2 : \", p2)\n",
    "print(torch.dot(t1, t2)/(torch.norm(t1, p=2)*torch.norm(t2, p=2)))"
   ]
  },
  {
   "cell_type": "code",
   "execution_count": 16,
   "metadata": {},
   "outputs": [
    {
     "data": {
      "text/html": [
       "<pre style=\"white-space:pre;overflow-x:auto;line-height:normal;font-family:Menlo,'DejaVu Sans Mono',consolas,'Courier New',monospace\">class <span style=\"color: #008080; text-decoration-color: #008080; font-weight: bold\">1</span> :  <span style=\"color: #008080; text-decoration-color: #008080; font-weight: bold\">1</span>\n",
       "</pre>\n"
      ],
      "text/plain": [
       "class \u001b[1;36m1\u001b[0m :  \u001b[1;36m1\u001b[0m\n"
      ]
     },
     "metadata": {},
     "output_type": "display_data"
    },
    {
     "data": {
      "text/html": [
       "<pre style=\"white-space:pre;overflow-x:auto;line-height:normal;font-family:Menlo,'DejaVu Sans Mono',consolas,'Courier New',monospace\">class <span style=\"color: #008080; text-decoration-color: #008080; font-weight: bold\">2</span> :  <span style=\"color: #008080; text-decoration-color: #008080; font-weight: bold\">0</span>\n",
       "</pre>\n"
      ],
      "text/plain": [
       "class \u001b[1;36m2\u001b[0m :  \u001b[1;36m0\u001b[0m\n"
      ]
     },
     "metadata": {},
     "output_type": "display_data"
    },
    {
     "data": {
      "text/html": [
       "<pre style=\"white-space:pre;overflow-x:auto;line-height:normal;font-family:Menlo,'DejaVu Sans Mono',consolas,'Courier New',monospace\"><span style=\"color: #800080; text-decoration-color: #800080; font-weight: bold\">tensor</span><span style=\"font-weight: bold\">(</span><span style=\"color: #008080; text-decoration-color: #008080; font-weight: bold\">0.6690</span><span style=\"font-weight: bold\">)</span>\n",
       "</pre>\n"
      ],
      "text/plain": [
       "\u001b[1;35mtensor\u001b[0m\u001b[1m(\u001b[0m\u001b[1;36m0.6690\u001b[0m\u001b[1m)\u001b[0m\n"
      ]
     },
     "metadata": {},
     "output_type": "display_data"
    }
   ],
   "source": [
    "sent1 = \"AWESOME !\"\n",
    "sent2 = \"Horrible !\"\n",
    "t1, p1 = analysis(sent1)\n",
    "t2, p2 = analysis(sent2)\n",
    "print(\"class 1 : \", p1)\n",
    "print(\"class 2 : \", p2)\n",
    "print(torch.dot(t1, t2)/(torch.norm(t1, p=2)*torch.norm(t2, p=2)))"
   ]
  },
  {
   "cell_type": "code",
   "execution_count": null,
   "metadata": {},
   "outputs": [],
   "source": []
  }
 ],
 "metadata": {
  "kernelspec": {
   "display_name": "Python 3 (ipykernel)",
   "language": "python",
   "name": "python3"
  },
  "language_info": {
   "codemirror_mode": {
    "name": "ipython",
    "version": 3
   },
   "file_extension": ".py",
   "mimetype": "text/x-python",
   "name": "python",
   "nbconvert_exporter": "python",
   "pygments_lexer": "ipython3",
   "version": "3.7.13"
  }
 },
 "nbformat": 4,
 "nbformat_minor": 4
}
