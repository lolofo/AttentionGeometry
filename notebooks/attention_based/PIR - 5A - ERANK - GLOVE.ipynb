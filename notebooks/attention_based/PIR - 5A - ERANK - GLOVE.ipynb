{
 "cells": [
  {
   "cell_type": "markdown",
   "metadata": {
    "pycharm": {
     "name": "#%% md\n"
    }
   },
   "source": [
    "# Calcul du rang effectiffe et géométrie"
   ]
  },
  {
   "cell_type": "code",
   "execution_count": 43,
   "metadata": {
    "collapsed": false,
    "jupyter": {
     "outputs_hidden": false
    },
    "pycharm": {
     "name": "#%%\n"
    }
   },
   "outputs": [
    {
     "name": "stdout",
     "output_type": "stream",
     "text": [
      "The autoreload extension is already loaded. To reload it, use:\n",
      "  %reload_ext autoreload\n",
      ">> current directory : C:\\Users\\loicf\\Documents\\IRISA\\ExplanationPairSentencesTasks\n",
      ">> cache path : C:\\Users\\loicf\\Documents\\IRISA\\ExplanationPairSentencesTasks\\.cache\n",
      ">> model path : C:\\Users\\loicf\\Documents\\IRISA\\ExplanationPairSentencesTasks\\.cache\\models\n",
      ">> dataset path : C:\\Users\\loicf\\Documents\\IRISA\\ExplanationPairSentencesTasks\\.cache\\dataset\n",
      ">> logs path : C:\\Users\\loicf\\Documents\\IRISA\\ExplanationPairSentencesTasks\\.cache\\logs\n",
      ">> device : cuda\n"
     ]
    }
   ],
   "source": [
    "%load_ext autoreload\n",
    "%autoreload 2\n",
    "\n",
    "from IPython.display import display, HTML\n",
    "import os\n",
    "from os import path\n",
    "import sys\n",
    "cwd = os.getcwd().split(os.path.sep)\n",
    "\n",
    "# point to the git repository\n",
    "while cwd[-1] != \"ExplanationPairSentencesTasks\":\n",
    "    os.chdir(\"..\")\n",
    "    cwd = os.getcwd().split(os.path.sep)\n",
    "print(f\">> current directory : {os.getcwd()}\")\n",
    "\n",
    "# add the root directory\n",
    "sys.path.append(os.path.join(os.getcwd(), \"src\"))\n",
    "\n",
    "# cache and data cache\n",
    "cache_path = path.join(os.getcwd() ,'.cache')\n",
    "dataset_path = path.join(cache_path, 'dataset')\n",
    "log_path = path.join(cache_path, 'logs')\n",
    "model_path = path.join(cache_path, 'models')\n",
    "print(f\">> cache path : {cache_path}\")\n",
    "print(f\">> model path : {model_path}\")\n",
    "print(f\">> dataset path : {dataset_path}\")\n",
    "print(f\">> logs path : {log_path}\")\n",
    "\n",
    "# import the different modules\n",
    "## datasets\n",
    "from src.data_module.hatexplain import HateXPlainDM\n",
    "from src.data_module.yelp_hat import CLSTokenYelpHatDM, CLSTokenYelpHat50DM, CLSTokenYelpHat100DM, CLSTokenYelpHat200DM\n",
    "\n",
    "# models\n",
    "from pur_attention import AttitModel\n",
    "\n",
    "# tools\n",
    "from notebooks.attention_based.utils.ckp_config import *\n",
    "\n",
    "# external librairies\n",
    "import torch\n",
    "import matplotlib.pyplot as plt\n",
    "import seaborn as sns\n",
    "sns.set_theme()\n",
    "\n",
    "DEVICE = torch.device('cuda' if torch.cuda.is_available() else 'cpu')\n",
    "print(f\">> device : {DEVICE}\")"
   ]
  },
  {
   "cell_type": "markdown",
   "metadata": {
    "pycharm": {
     "name": "#%% md\n"
    }
   },
   "source": [
    "## Avec l'optimisateur Adadelta"
   ]
  },
  {
   "cell_type": "markdown",
   "source": [
    "## HatexPlain"
   ],
   "metadata": {
    "collapsed": false,
    "pycharm": {
     "name": "#%% md\n"
    }
   }
  },
  {
   "cell_type": "code",
   "execution_count": 4,
   "metadata": {
    "pycharm": {
     "name": "#%%\n"
    },
    "tags": []
   },
   "outputs": [],
   "source": [
    "%%capture\n",
    "# the hatexplain dataset : load all the dataset\n",
    "dm_kwargs = dict(cache_path=dataset_path,\n",
    "                 batch_size=32,\n",
    "                 num_workers=0,\n",
    "                 n_data=-1)\n",
    "\n",
    "dm = HateXPlainDM(**dm_kwargs)\n",
    "dm.prepare_data()\n",
    "# erank on the raw part\n",
    "def erank_calculus(s : torch.tensor):\n",
    "    sum_s = s.sum()\n",
    "    return torch.exp(-((s /sum_s) * torch.log(s/sum_s)).sum())\n",
    "\n",
    "erank_train = []\n",
    "erank_raw = []\n",
    "\n",
    "for l in range(6):\n",
    "    model_args = dict(\n",
    "            cache_path=model_path,\n",
    "            mode=\"exp\",\n",
    "            vocab=dm.vocab,\n",
    "            lambda_entrop=0,\n",
    "            lambda_supervise=0,\n",
    "            lambda_lagrange=0,\n",
    "            pretrained_vectors=\"glove.840B.300d\",\n",
    "            num_layers=l+1,\n",
    "            num_heads=1,\n",
    "            d_embedding=300,\n",
    "            data=\"hatexplain\",\n",
    "            num_class=dm.num_class,\n",
    "            opt=\"adadelta\"\n",
    "        )\n",
    "    # load the raw model\n",
    "    raw_model = AttitModel(**model_args)\n",
    "    raw_model = raw_model.eval()\n",
    "\n",
    "    # load the trained model\n",
    "    ckp = os.path.join(log_path, \"PurAttentionAdadelta\", f\"run=0_hatexplain_l=0{l+1}_h=1_adadelta\", \"checkpoints\", \"best.ckpt\")\n",
    "    hparams = os.path.join(log_path, \"PurAttentionAdadelta\", f\"run=0_hatexplain_l=0{l+1}_h=1_adadelta\", \"hparams.yaml\")\n",
    "    train_model = AttitModel.load_from_checkpoint(ckp, hparams_file=hparams, **model_args)\n",
    "    train_model = train_model.eval()\n",
    "\n",
    "    trained_vectors = train_model.model.embedding.state_dict()[\"weight\"]\n",
    "    raw_vectors = raw_model.model.embedding.state_dict()[\"weight\"]\n",
    "\n",
    "\n",
    "    S_raw = torch.linalg.svdvals(raw_vectors)\n",
    "    S_train = torch.linalg.svdvals(trained_vectors)\n",
    "\n",
    "    erank_train.append(erank_calculus(S_train))\n",
    "    erank_raw.append(erank_calculus(S_raw))"
   ]
  },
  {
   "cell_type": "code",
   "execution_count": 5,
   "metadata": {
    "pycharm": {
     "name": "#%%\n"
    },
    "tags": []
   },
   "outputs": [
    {
     "data": {
      "text/plain": "<Figure size 720x720 with 1 Axes>",
      "image/png": "[encoded data removed]"
     },
     "metadata": {},
     "output_type": "display_data"
    }
   ],
   "source": [
    "fig = plt.figure(figsize=(10,10))\n",
    "txt = plt.title(\"Erank metric of the embeddings\")\n",
    "plt.bar(list(range(6)), erank_train, label=\"trained embeddings\")\n",
    "plt.plot(list(range(6)), erank_raw, label=\"raw embeddings\")\n",
    "plt.yscale(\"log\")\n",
    "plt.ylabel(\"Entropy\")\n",
    "plt.legend()\n",
    "x = list(range(0, 6))\n",
    "plt.xticks(x, [f\"n layer = {l+1}\" for l in x], rotation=60)\n",
    "plt.savefig(os.path.join(os.getcwd(),\".cache\",\"fig\",\"hatexplain_h=1_l=[1,10]\", \"erank_embeddings_adadelta_hatexplain.png\"))"
   ]
  },
  {
   "cell_type": "markdown",
   "source": [
    "## YelpHat50"
   ],
   "metadata": {
    "collapsed": false,
    "pycharm": {
     "name": "#%% md\n"
    }
   }
  },
  {
   "cell_type": "markdown",
   "source": [
    "Nous avons ici des problèmes avec le dataset."
   ],
   "metadata": {
    "collapsed": false,
    "pycharm": {
     "name": "#%% md\n"
    }
   }
  },
  {
   "cell_type": "code",
   "execution_count": 48,
   "outputs": [
    {
     "ename": "RuntimeError",
     "evalue": "Error(s) in loading state_dict for AttitModel:\n\tsize mismatch for model.embedding.weight: copying a param with shape torch.Size([7313, 300]) from checkpoint, the shape in current model is torch.Size([7501, 300]).",
     "output_type": "error",
     "traceback": [
      "\u001B[1;31m---------------------------------------------------------------------------\u001B[0m",
      "\u001B[1;31mRuntimeError\u001B[0m                              Traceback (most recent call last)",
      "\u001B[1;32m~\\AppData\\Local\\Temp\\ipykernel_29332\\3127188481.py\u001B[0m in \u001B[0;36m<module>\u001B[1;34m\u001B[0m\n\u001B[0;32m     38\u001B[0m     \u001B[0mckp\u001B[0m \u001B[1;33m=\u001B[0m \u001B[0mos\u001B[0m\u001B[1;33m.\u001B[0m\u001B[0mpath\u001B[0m\u001B[1;33m.\u001B[0m\u001B[0mjoin\u001B[0m\u001B[1;33m(\u001B[0m\u001B[0mlog_path\u001B[0m\u001B[1;33m,\u001B[0m \u001B[1;34m\"PurAttentionAdadelta\"\u001B[0m\u001B[1;33m,\u001B[0m \u001B[1;34mf\"run=0_yelphat50_l=0{l+1}_h=1_adadelta\"\u001B[0m\u001B[1;33m,\u001B[0m \u001B[1;34m\"checkpoints\"\u001B[0m\u001B[1;33m,\u001B[0m \u001B[1;34m\"best.ckpt\"\u001B[0m\u001B[1;33m)\u001B[0m\u001B[1;33m\u001B[0m\u001B[1;33m\u001B[0m\u001B[0m\n\u001B[0;32m     39\u001B[0m     \u001B[0mhparams\u001B[0m \u001B[1;33m=\u001B[0m \u001B[0mos\u001B[0m\u001B[1;33m.\u001B[0m\u001B[0mpath\u001B[0m\u001B[1;33m.\u001B[0m\u001B[0mjoin\u001B[0m\u001B[1;33m(\u001B[0m\u001B[0mlog_path\u001B[0m\u001B[1;33m,\u001B[0m \u001B[1;34m\"PurAttentionAdadelta\"\u001B[0m\u001B[1;33m,\u001B[0m \u001B[1;34mf\"run=0_yelphat50_l=0{l+1}_h=1_adadelta\"\u001B[0m\u001B[1;33m,\u001B[0m \u001B[1;34m\"hparams.yaml\"\u001B[0m\u001B[1;33m)\u001B[0m\u001B[1;33m\u001B[0m\u001B[1;33m\u001B[0m\u001B[0m\n\u001B[1;32m---> 40\u001B[1;33m     \u001B[0mtrain_model\u001B[0m \u001B[1;33m=\u001B[0m \u001B[0mAttitModel\u001B[0m\u001B[1;33m.\u001B[0m\u001B[0mload_from_checkpoint\u001B[0m\u001B[1;33m(\u001B[0m\u001B[0mckp\u001B[0m\u001B[1;33m,\u001B[0m \u001B[0mhparams_file\u001B[0m\u001B[1;33m=\u001B[0m\u001B[0mhparams\u001B[0m\u001B[1;33m,\u001B[0m \u001B[1;33m**\u001B[0m\u001B[0mmodel_args\u001B[0m\u001B[1;33m)\u001B[0m\u001B[1;33m\u001B[0m\u001B[1;33m\u001B[0m\u001B[0m\n\u001B[0m\u001B[0;32m     41\u001B[0m     \u001B[0mtrain_model\u001B[0m \u001B[1;33m=\u001B[0m \u001B[0mtrain_model\u001B[0m\u001B[1;33m.\u001B[0m\u001B[0meval\u001B[0m\u001B[1;33m(\u001B[0m\u001B[1;33m)\u001B[0m\u001B[1;33m\u001B[0m\u001B[1;33m\u001B[0m\u001B[0m\n\u001B[0;32m     42\u001B[0m \u001B[1;33m\u001B[0m\u001B[0m\n",
      "\u001B[1;32m~\\miniconda3\\envs\\nlp\\lib\\site-packages\\pytorch_lightning\\core\\saving.py\u001B[0m in \u001B[0;36mload_from_checkpoint\u001B[1;34m(cls, checkpoint_path, map_location, hparams_file, strict, **kwargs)\u001B[0m\n\u001B[0;32m    159\u001B[0m         \u001B[0mcheckpoint\u001B[0m\u001B[1;33m[\u001B[0m\u001B[0mcls\u001B[0m\u001B[1;33m.\u001B[0m\u001B[0mCHECKPOINT_HYPER_PARAMS_KEY\u001B[0m\u001B[1;33m]\u001B[0m\u001B[1;33m.\u001B[0m\u001B[0mupdate\u001B[0m\u001B[1;33m(\u001B[0m\u001B[0mkwargs\u001B[0m\u001B[1;33m)\u001B[0m\u001B[1;33m\u001B[0m\u001B[1;33m\u001B[0m\u001B[0m\n\u001B[0;32m    160\u001B[0m \u001B[1;33m\u001B[0m\u001B[0m\n\u001B[1;32m--> 161\u001B[1;33m         \u001B[0mmodel\u001B[0m \u001B[1;33m=\u001B[0m \u001B[0mcls\u001B[0m\u001B[1;33m.\u001B[0m\u001B[0m_load_model_state\u001B[0m\u001B[1;33m(\u001B[0m\u001B[0mcheckpoint\u001B[0m\u001B[1;33m,\u001B[0m \u001B[0mstrict\u001B[0m\u001B[1;33m=\u001B[0m\u001B[0mstrict\u001B[0m\u001B[1;33m,\u001B[0m \u001B[1;33m**\u001B[0m\u001B[0mkwargs\u001B[0m\u001B[1;33m)\u001B[0m\u001B[1;33m\u001B[0m\u001B[1;33m\u001B[0m\u001B[0m\n\u001B[0m\u001B[0;32m    162\u001B[0m         \u001B[1;32mreturn\u001B[0m \u001B[0mmodel\u001B[0m\u001B[1;33m\u001B[0m\u001B[1;33m\u001B[0m\u001B[0m\n\u001B[0;32m    163\u001B[0m \u001B[1;33m\u001B[0m\u001B[0m\n",
      "\u001B[1;32m~\\miniconda3\\envs\\nlp\\lib\\site-packages\\pytorch_lightning\\core\\saving.py\u001B[0m in \u001B[0;36m_load_model_state\u001B[1;34m(cls, checkpoint, strict, **cls_kwargs_new)\u001B[0m\n\u001B[0;32m    207\u001B[0m \u001B[1;33m\u001B[0m\u001B[0m\n\u001B[0;32m    208\u001B[0m         \u001B[1;31m# load the state_dict on the model automatically\u001B[0m\u001B[1;33m\u001B[0m\u001B[1;33m\u001B[0m\u001B[1;33m\u001B[0m\u001B[0m\n\u001B[1;32m--> 209\u001B[1;33m         \u001B[0mkeys\u001B[0m \u001B[1;33m=\u001B[0m \u001B[0mmodel\u001B[0m\u001B[1;33m.\u001B[0m\u001B[0mload_state_dict\u001B[0m\u001B[1;33m(\u001B[0m\u001B[0mcheckpoint\u001B[0m\u001B[1;33m[\u001B[0m\u001B[1;34m\"state_dict\"\u001B[0m\u001B[1;33m]\u001B[0m\u001B[1;33m,\u001B[0m \u001B[0mstrict\u001B[0m\u001B[1;33m=\u001B[0m\u001B[0mstrict\u001B[0m\u001B[1;33m)\u001B[0m\u001B[1;33m\u001B[0m\u001B[1;33m\u001B[0m\u001B[0m\n\u001B[0m\u001B[0;32m    210\u001B[0m \u001B[1;33m\u001B[0m\u001B[0m\n\u001B[0;32m    211\u001B[0m         \u001B[1;32mif\u001B[0m \u001B[1;32mnot\u001B[0m \u001B[0mstrict\u001B[0m\u001B[1;33m:\u001B[0m\u001B[1;33m\u001B[0m\u001B[1;33m\u001B[0m\u001B[0m\n",
      "\u001B[1;32m~\\miniconda3\\envs\\nlp\\lib\\site-packages\\torch\\nn\\modules\\module.py\u001B[0m in \u001B[0;36mload_state_dict\u001B[1;34m(self, state_dict, strict)\u001B[0m\n\u001B[0;32m   1603\u001B[0m         \u001B[1;32mif\u001B[0m \u001B[0mlen\u001B[0m\u001B[1;33m(\u001B[0m\u001B[0merror_msgs\u001B[0m\u001B[1;33m)\u001B[0m \u001B[1;33m>\u001B[0m \u001B[1;36m0\u001B[0m\u001B[1;33m:\u001B[0m\u001B[1;33m\u001B[0m\u001B[1;33m\u001B[0m\u001B[0m\n\u001B[0;32m   1604\u001B[0m             raise RuntimeError('Error(s) in loading state_dict for {}:\\n\\t{}'.format(\n\u001B[1;32m-> 1605\u001B[1;33m                                self.__class__.__name__, \"\\n\\t\".join(error_msgs)))\n\u001B[0m\u001B[0;32m   1606\u001B[0m         \u001B[1;32mreturn\u001B[0m \u001B[0m_IncompatibleKeys\u001B[0m\u001B[1;33m(\u001B[0m\u001B[0mmissing_keys\u001B[0m\u001B[1;33m,\u001B[0m \u001B[0munexpected_keys\u001B[0m\u001B[1;33m)\u001B[0m\u001B[1;33m\u001B[0m\u001B[1;33m\u001B[0m\u001B[0m\n\u001B[0;32m   1607\u001B[0m \u001B[1;33m\u001B[0m\u001B[0m\n",
      "\u001B[1;31mRuntimeError\u001B[0m: Error(s) in loading state_dict for AttitModel:\n\tsize mismatch for model.embedding.weight: copying a param with shape torch.Size([7313, 300]) from checkpoint, the shape in current model is torch.Size([7501, 300])."
     ]
    }
   ],
   "source": [
    "%%capture\n",
    "# the yelphat dataset\n",
    "dm_kwargs = dict(cache_path=dataset_path,\n",
    "                 batch_size=128,\n",
    "                 num_workers=0,\n",
    "                 n_data=-1)\n",
    "dm = CLSTokenYelpHat50DM(**dm_kwargs)\n",
    "dm.prepare_data()\n",
    "\n",
    "# erank on the raw part\n",
    "def erank_calculus(s : torch.tensor):\n",
    "    sum_s = s.sum()\n",
    "    return torch.exp(-((s /sum_s) * torch.log(s/sum_s)).sum())\n",
    "\n",
    "erank_train = []\n",
    "erank_raw = []\n",
    "\n",
    "for l in range(6):\n",
    "    model_args = dict(\n",
    "            cache_path=model_path,\n",
    "            mode=\"exp\",\n",
    "            vocab=dm.vocab,\n",
    "            lambda_entrop=0,\n",
    "            lambda_supervise=0,\n",
    "            lambda_lagrange=0,\n",
    "            pretrained_vectors=\"glove.840B.300d\",\n",
    "            num_layers=l+1,\n",
    "            num_heads=1,\n",
    "            d_embedding=300,\n",
    "            data=\"yelphat50\",\n",
    "            num_class=dm.num_class,\n",
    "            opt=\"adadelta\"\n",
    "        )\n",
    "    # load the raw model\n",
    "    raw_model = AttitModel(**model_args)\n",
    "    raw_model = raw_model.eval()\n",
    "\n",
    "    # load the trained model\n",
    "    ckp = os.path.join(log_path, \"PurAttentionAdadelta\", f\"run=0_yelphat50_l=0{l+1}_h=1_adadelta\", \"checkpoints\", \"best.ckpt\")\n",
    "    hparams = os.path.join(log_path, \"PurAttentionAdadelta\", f\"run=0_yelphat50_l=0{l+1}_h=1_adadelta\", \"hparams.yaml\")\n",
    "    train_model = AttitModel.load_from_checkpoint(ckp, hparams_file=hparams, **model_args)\n",
    "    train_model = train_model.eval()\n",
    "\n",
    "    trained_vectors = train_model.model.embedding.state_dict()[\"weight\"]\n",
    "    raw_vectors = raw_model.model.embedding.state_dict()[\"weight\"]\n",
    "\n",
    "\n",
    "    S_raw = torch.linalg.svdvals(raw_vectors)\n",
    "    S_train = torch.linalg.svdvals(trained_vectors)\n",
    "\n",
    "    erank_train.append(erank_calculus(S_train))\n",
    "    erank_raw.append(erank_calculus(S_raw))"
   ],
   "metadata": {
    "collapsed": false,
    "pycharm": {
     "name": "#%%\n"
    }
   }
  },
  {
   "cell_type": "code",
   "execution_count": null,
   "outputs": [],
   "source": [
    "fig = plt.figure(figsize=(10,10))\n",
    "txt = plt.title(\"Erank metric of the embeddings\")\n",
    "plt.bar(list(range(6)), erank_train, label=\"trained embeddings\")\n",
    "plt.plot(list(range(6)), erank_raw, label=\"raw embeddings\")\n",
    "plt.yscale(\"log\")\n",
    "plt.ylabel(\"Entropy\")\n",
    "plt.legend()\n",
    "x = list(range(0, 6))\n",
    "plt.xticks(x, [f\"n layer = {l+1}\" for l in x], rotation=60)\n",
    "plt.savefig(os.path.join(os.getcwd(),\".cache\",\"fig\",\"hatexplain_h=1_l=[1,10]\", \"erank_embeddings_adadelta_yelphat.png\"))"
   ],
   "metadata": {
    "collapsed": false,
    "pycharm": {
     "name": "#%%\n"
    }
   }
  },
  {
   "cell_type": "markdown",
   "metadata": {
    "pycharm": {
     "name": "#%% md\n"
    }
   },
   "source": [
    "## Avec l'optimisateur Adam"
   ]
  },
  {
   "cell_type": "code",
   "execution_count": 6,
   "metadata": {
    "pycharm": {
     "name": "#%%\n"
    }
   },
   "outputs": [],
   "source": [
    "%%capture\n",
    "# erank on the raw part\n",
    "def erank_calculus(s : torch.tensor):\n",
    "    sum_s = s.sum()\n",
    "    return torch.exp(-((s /sum_s) * torch.log(s/sum_s)).sum())\n",
    "\n",
    "erank_train = []\n",
    "erank_raw = []\n",
    "\n",
    "for l in range(6):\n",
    "    model_args = dict(\n",
    "            cache_path=model_path,\n",
    "            mode=\"exp\",\n",
    "            vocab=dm.vocab,\n",
    "            lambda_entrop=0,\n",
    "            lambda_supervise=0,\n",
    "            lambda_lagrange=0,\n",
    "            pretrained_vectors=\"glove.840B.300d\",\n",
    "            num_layers=l+1,\n",
    "            num_heads=1,\n",
    "            d_embedding=300,\n",
    "            data=\"hatexplain\",\n",
    "            num_class=dm.num_class,\n",
    "            opt=\"adadelta\"\n",
    "        )\n",
    "    # load the raw model\n",
    "    raw_model = AttitModel(**model_args)\n",
    "    raw_model = raw_model.eval()\n",
    "\n",
    "    # load the trained model\n",
    "    ckp = os.path.join(log_path, \"PurAttentionAdam\", f\"run=0_hatexplain_l=0{l+1}_h=1_adam\", \"checkpoints\", \"best.ckpt\")\n",
    "    hparams = os.path.join(log_path, \"PurAttentionAdam\", f\"run=0_hatexplain_l=0{l+1}_h=1_adam\", \"hparams.yaml\")\n",
    "    train_model = AttitModel.load_from_checkpoint(ckp, hparams_file=hparams, **model_args)\n",
    "    train_model = train_model.eval()\n",
    "\n",
    "    trained_vectors = train_model.model.embedding.state_dict()[\"weight\"]\n",
    "    raw_vectors = raw_model.model.embedding.state_dict()[\"weight\"]\n",
    "\n",
    "\n",
    "    S_raw = torch.linalg.svdvals(raw_vectors)\n",
    "    S_train = torch.linalg.svdvals(trained_vectors)\n",
    "\n",
    "    erank_train.append(erank_calculus(S_train))\n",
    "    erank_raw.append(erank_calculus(S_raw))"
   ]
  },
  {
   "cell_type": "code",
   "execution_count": 7,
   "metadata": {
    "pycharm": {
     "name": "#%%\n"
    }
   },
   "outputs": [
    {
     "data": {
      "image/png": "[encoded data removed]",
      "text/plain": [
       "<Figure size 720x720 with 1 Axes>"
      ]
     },
     "metadata": {},
     "output_type": "display_data"
    }
   ],
   "source": [
    "fig = plt.figure(figsize=(10,10))\n",
    "txt = plt.title(\"Erank metric of the embeddings\")\n",
    "plt.bar(list(range(6)), erank_train, label=\"trained embeddings\")\n",
    "plt.plot(list(range(6)), erank_raw, label=\"raw embeddings\")\n",
    "plt.yscale(\"log\")\n",
    "plt.ylabel(\"Entropy\")\n",
    "#plt.xlabel(\"Layer\")\n",
    "plt.legend()\n",
    "x = list(range(0, 6))\n",
    "plt.xticks(x, [f\"layer {l+1}\" for l in x], rotation=60)\n",
    "plt.savefig(os.path.join(os.getcwd(),\".cache\",\"fig\",\"hatexplain_h=1_l=[1,10]\", \"erank_embeddings_adam.png\"))"
   ]
  }
 ],
 "metadata": {
  "kernelspec": {
   "display_name": "Python 3.7.13 ('nlp')",
   "language": "python",
   "name": "python3"
  },
  "language_info": {
   "codemirror_mode": {
    "name": "ipython",
    "version": 3
   },
   "file_extension": ".py",
   "mimetype": "text/x-python",
   "name": "python",
   "nbconvert_exporter": "python",
   "pygments_lexer": "ipython3",
   "version": "3.7.13"
  },
  "vscode": {
   "interpreter": {
    "hash": "2d610bfb5330843e52c6b1e4272056feeee60e4b747e8cd36530d5e655bea6e2"
   }
  }
 },
 "nbformat": 4,
 "nbformat_minor": 4
}